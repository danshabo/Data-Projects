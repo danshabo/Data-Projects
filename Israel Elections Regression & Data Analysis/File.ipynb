{
  "nbformat": 4,
  "nbformat_minor": 0,
  "metadata": {
    "colab": {
      "name": "Lab 9.ipynb",
      "provenance": [],
      "collapsed_sections": [
        "XUIlLKYLrtcO",
        "RXEn8qLwryNO"
      ]
    },
    "kernelspec": {
      "name": "python3",
      "display_name": "Python 3"
    },
    "language_info": {
      "name": "python"
    }
  },
  "cells": [
    {
      "cell_type": "markdown",
      "source": [
        "# Libraries:"
      ],
      "metadata": {
        "id": "XUIlLKYLrtcO"
      }
    },
    {
      "cell_type": "code",
      "source": [
        "import numpy as np  \n",
        "from numpy import linalg as LA\n",
        "import pandas as pd  \n",
        "import statsmodels.api as sm \n",
        "from matplotlib import pyplot as plt\n",
        "import random\n",
        "import seaborn as sns; sns.set_theme()\n",
        "from scipy.optimize import nnls\n",
        "from google.colab import data_table\n",
        "from statsmodels.tools.eval_measures import rmse"
      ],
      "metadata": {
        "id": "v4udPImjshRv",
        "colab": {
          "base_uri": "https://localhost:8080/"
        },
        "outputId": "107d4b0b-a76f-49cb-ebec-50d91d25e0ca"
      },
      "execution_count": 1,
      "outputs": [
        {
          "output_type": "stream",
          "name": "stderr",
          "text": [
            "/usr/local/lib/python3.7/dist-packages/statsmodels/tools/_testing.py:19: FutureWarning: pandas.util.testing is deprecated. Use the functions in the public API at pandas.testing instead.\n",
            "  import pandas.util.testing as tm\n"
          ]
        }
      ]
    },
    {
      "cell_type": "markdown",
      "source": [
        "# Loading relevant datasets:\n",
        "\n"
      ],
      "metadata": {
        "id": "RXEn8qLwryNO"
      }
    },
    {
      "cell_type": "code",
      "source": [
        "#Loading ballots 2021:\n",
        "url = 'https://raw.githubusercontent.com/danshabo/Lab1-3rd-Year-/main/votes%20per%20city%202021.csv'\n",
        "df_2021_raw = pd.read_csv(url,  encoding = 'iso-8859-8', index_col='שם ישוב')\n",
        "url2 = 'https://raw.githubusercontent.com/danshabo/Lab1-3rd-Year-/main/votes%20per%20ballot%202021.csv'\n",
        "df_2021_ballot_raw = pd.read_csv(url2,  encoding = 'iso-8859-8', index_col='שם ישוב')\n",
        "#Loading ballots 2020:\n",
        "url2020 = 'https://raw.githubusercontent.com/pepaloma/Lab-3rd-Year/main/votes%20per%20city%202020.csv'\n",
        "df_2020_raw = pd.read_csv(url2020,  encoding = 'iso-8859-8', index_col='שם ישוב')\n",
        "url20202 = 'https://raw.githubusercontent.com/pepaloma/Lab-3rd-Year/main/votes%20per%20ballot%202020.csv'\n",
        "df_2020_ballot_raw = pd.read_csv(url20202,  encoding = 'iso-8859-8', index_col='שם ישוב')\n",
        "url_eshkol = 'https://raw.githubusercontent.com/danshabo/Lab1-3rd-Year-/0f66617cb06880b33fc51f6be273c38b8f094b7c/eshkol_hevrati_calcali.csv'\n",
        "hevrati = pd.read_csv(url_eshkol, encoding = 'iso-8859-8', index_col='name')\n",
        "#Ballot dfs cleaning:\n",
        "b21 = df_2021_ballot_raw.drop(['מעטפות חיצוניות'])\n",
        "b21 = b21.drop(b21.columns[len(b21.columns) - 1],axis=1)\n",
        "b20 = df_2020_ballot_raw.drop(['מעטפות חיצוניות'])\n",
        "b20 = b20.drop(b20.columns[len(b20.columns) - 1],axis=1)\n",
        "b21_p = b21.iloc[:,10:].sum().div(b21.iloc[:,10:].sum().sum()).sort_values(ascending=False)[0:13]\n",
        "b20_p = b20.iloc[:,10:].sum().div(b20.iloc[:,10:].sum().sum()).sort_values(ascending=False)[0:9]\n",
        "\n",
        "\n",
        "ballots_merged = b20.merge(b21, on=['קלפי','שם ישוב',], how='inner',suffixes=('_20', '_21'))# (4115 , 88)\n",
        "party_votes_merged = ballots_merged.loc[:, ~ballots_merged.columns.isin(['סמל ישוב_20\t', 'קלפי', 'ריכוז_20', 'שופט_20', 'בזב_20'\n",
        ", 'מצביעים_20', 'פסולים_20', 'כשרים_20', 'סמל ישוב_21', 'קלפי_21', 'ריכוז_21', 'סמל ישוב_21', 'שופט_21', 'בזב_21', 'מצביעים_21', 'פסולים_21', 'כשרים_21','סמל ועדה_20','סמל ועדה_21','ברזל_20','ברזל_21'])]\n",
        "party_votes_merged = party_votes_merged.iloc[:,1:]\n",
        "\n",
        "#Getting the right range for each year in the merged dataframe:\n",
        "b20_names = party_votes_merged.iloc[:,0:30]\n",
        "b21_names = party_votes_merged.iloc[:,30:]\n",
        "\n",
        "\n"
      ],
      "metadata": {
        "id": "RCnymAg4sNlw"
      },
      "execution_count": 2,
      "outputs": []
    },
    {
      "cell_type": "markdown",
      "source": [
        ""
      ],
      "metadata": {
        "id": "YYttCzwu9OLi"
      }
    },
    {
      "cell_type": "code",
      "source": [
        ""
      ],
      "metadata": {
        "id": "ksfu6Fup9O5D"
      },
      "execution_count": 2,
      "outputs": []
    },
    {
      "cell_type": "markdown",
      "source": [
        "# Question 1:"
      ],
      "metadata": {
        "id": "x_mMstD1twS3"
      }
    },
    {
      "cell_type": "markdown",
      "source": [
        "We are asked to calculate the top 13 parties for 2021, and the top 9 parties for 2020, so Im going to create Nij for each year:"
      ],
      "metadata": {
        "id": "6UEf8jTCwayB"
      }
    },
    {
      "cell_type": "code",
      "source": [
        "\n",
        "top13_21 = b21_names.sum().div(b21_names.sum().sum()).sort_values(ascending=False)[0:13]\n",
        "top9_20 = b20_names.sum().div(b20_names.sum().sum()).sort_values(ascending=False)[0:9]\n",
        "Nij_20 = b20_names[top9_20.keys()]\n",
        "Nij_21 = b21_names[top13_21.keys()]\n",
        "Nij_20 #(4115, 9)\n",
        "Nij_21 #(4115, 13)\n",
        "model = sm.OLS(Nij_21, Nij_20).fit()\n",
        "M_matrix = model.params\n",
        "names_20 = ['מחל','פה','שס','ל','אמת','טב','ודעם','ג','נץ']\n",
        "M_matrix.columns = b21_p.index.values\n",
        "M_matrix.index = names_20\n",
        "M_matrix = M_matrix.T\n",
        "M_matrix\n"
      ],
      "metadata": {
        "colab": {
          "base_uri": "https://localhost:8080/",
          "height": 457
        },
        "id": "7ndTqcs1t1LJ",
        "outputId": "d2f3e70b-f71a-4d81-984f-966a997f281c"
      },
      "execution_count": 3,
      "outputs": [
        {
          "output_type": "execute_result",
          "data": {
            "text/html": [
              "\n",
              "  <div id=\"df-177bc0e4-ea70-49ba-87d6-354bca013ef1\">\n",
              "    <div class=\"colab-df-container\">\n",
              "      <div>\n",
              "<style scoped>\n",
              "    .dataframe tbody tr th:only-of-type {\n",
              "        vertical-align: middle;\n",
              "    }\n",
              "\n",
              "    .dataframe tbody tr th {\n",
              "        vertical-align: top;\n",
              "    }\n",
              "\n",
              "    .dataframe thead th {\n",
              "        text-align: right;\n",
              "    }\n",
              "</style>\n",
              "<table border=\"1\" class=\"dataframe\">\n",
              "  <thead>\n",
              "    <tr style=\"text-align: right;\">\n",
              "      <th></th>\n",
              "      <th>מחל</th>\n",
              "      <th>פה</th>\n",
              "      <th>שס</th>\n",
              "      <th>ל</th>\n",
              "      <th>אמת</th>\n",
              "      <th>טב</th>\n",
              "      <th>ודעם</th>\n",
              "      <th>ג</th>\n",
              "      <th>נץ</th>\n",
              "    </tr>\n",
              "  </thead>\n",
              "  <tbody>\n",
              "    <tr>\n",
              "      <th>מחל</th>\n",
              "      <td>0.770767</td>\n",
              "      <td>-0.002748</td>\n",
              "      <td>0.008603</td>\n",
              "      <td>-0.030986</td>\n",
              "      <td>-0.002434</td>\n",
              "      <td>-0.113850</td>\n",
              "      <td>0.029398</td>\n",
              "      <td>-0.025813</td>\n",
              "      <td>-0.217624</td>\n",
              "    </tr>\n",
              "    <tr>\n",
              "      <th>פה</th>\n",
              "      <td>-0.007965</td>\n",
              "      <td>0.498495</td>\n",
              "      <td>-0.015320</td>\n",
              "      <td>0.129435</td>\n",
              "      <td>-0.196289</td>\n",
              "      <td>-0.004897</td>\n",
              "      <td>-0.002319</td>\n",
              "      <td>0.006500</td>\n",
              "      <td>-0.008591</td>\n",
              "    </tr>\n",
              "    <tr>\n",
              "      <th>שס</th>\n",
              "      <td>0.016686</td>\n",
              "      <td>0.245991</td>\n",
              "      <td>0.000685</td>\n",
              "      <td>-0.069988</td>\n",
              "      <td>-0.048131</td>\n",
              "      <td>0.000895</td>\n",
              "      <td>-0.004226</td>\n",
              "      <td>-0.001140</td>\n",
              "      <td>-0.080139</td>\n",
              "    </tr>\n",
              "    <tr>\n",
              "      <th>כן</th>\n",
              "      <td>0.002406</td>\n",
              "      <td>-0.005217</td>\n",
              "      <td>0.854540</td>\n",
              "      <td>-0.002776</td>\n",
              "      <td>0.016390</td>\n",
              "      <td>-0.003729</td>\n",
              "      <td>0.001281</td>\n",
              "      <td>-0.006170</td>\n",
              "      <td>-0.248321</td>\n",
              "    </tr>\n",
              "    <tr>\n",
              "      <th>ג</th>\n",
              "      <td>-0.024184</td>\n",
              "      <td>0.088943</td>\n",
              "      <td>0.013450</td>\n",
              "      <td>-0.014971</td>\n",
              "      <td>0.667649</td>\n",
              "      <td>0.005063</td>\n",
              "      <td>-0.005236</td>\n",
              "      <td>-0.004654</td>\n",
              "      <td>0.136190</td>\n",
              "    </tr>\n",
              "    <tr>\n",
              "      <th>אמת</th>\n",
              "      <td>0.075063</td>\n",
              "      <td>0.050578</td>\n",
              "      <td>-0.019751</td>\n",
              "      <td>-0.022757</td>\n",
              "      <td>-0.038771</td>\n",
              "      <td>0.501903</td>\n",
              "      <td>-0.001934</td>\n",
              "      <td>0.004013</td>\n",
              "      <td>-1.087748</td>\n",
              "    </tr>\n",
              "    <tr>\n",
              "      <th>ב</th>\n",
              "      <td>0.004897</td>\n",
              "      <td>0.019047</td>\n",
              "      <td>-0.003025</td>\n",
              "      <td>0.724724</td>\n",
              "      <td>0.005437</td>\n",
              "      <td>-0.007507</td>\n",
              "      <td>-0.000066</td>\n",
              "      <td>0.001648</td>\n",
              "      <td>0.042408</td>\n",
              "    </tr>\n",
              "    <tr>\n",
              "      <th>ל</th>\n",
              "      <td>0.001799</td>\n",
              "      <td>-0.028192</td>\n",
              "      <td>0.062889</td>\n",
              "      <td>-0.008539</td>\n",
              "      <td>0.014555</td>\n",
              "      <td>0.618045</td>\n",
              "      <td>-0.000288</td>\n",
              "      <td>0.034701</td>\n",
              "      <td>3.465890</td>\n",
              "    </tr>\n",
              "    <tr>\n",
              "      <th>ודעם</th>\n",
              "      <td>-0.030554</td>\n",
              "      <td>0.035997</td>\n",
              "      <td>0.012776</td>\n",
              "      <td>-0.006868</td>\n",
              "      <td>0.664703</td>\n",
              "      <td>-0.003261</td>\n",
              "      <td>0.015785</td>\n",
              "      <td>-0.002544</td>\n",
              "      <td>0.071373</td>\n",
              "    </tr>\n",
              "    <tr>\n",
              "      <th>ט</th>\n",
              "      <td>0.064695</td>\n",
              "      <td>0.091952</td>\n",
              "      <td>-0.024578</td>\n",
              "      <td>0.051746</td>\n",
              "      <td>-0.080352</td>\n",
              "      <td>0.030976</td>\n",
              "      <td>0.001589</td>\n",
              "      <td>0.005700</td>\n",
              "      <td>-0.221719</td>\n",
              "    </tr>\n",
              "    <tr>\n",
              "      <th>ת</th>\n",
              "      <td>-0.003477</td>\n",
              "      <td>0.002719</td>\n",
              "      <td>0.016410</td>\n",
              "      <td>0.004381</td>\n",
              "      <td>-0.002442</td>\n",
              "      <td>-0.020595</td>\n",
              "      <td>0.000524</td>\n",
              "      <td>0.886372</td>\n",
              "      <td>-0.794049</td>\n",
              "    </tr>\n",
              "    <tr>\n",
              "      <th>מרצ</th>\n",
              "      <td>0.003784</td>\n",
              "      <td>-0.006308</td>\n",
              "      <td>-0.009764</td>\n",
              "      <td>0.023371</td>\n",
              "      <td>0.020679</td>\n",
              "      <td>-0.002012</td>\n",
              "      <td>0.319362</td>\n",
              "      <td>0.003193</td>\n",
              "      <td>0.003605</td>\n",
              "    </tr>\n",
              "    <tr>\n",
              "      <th>עם</th>\n",
              "      <td>-0.001801</td>\n",
              "      <td>0.003695</td>\n",
              "      <td>0.006823</td>\n",
              "      <td>-0.016649</td>\n",
              "      <td>-0.022878</td>\n",
              "      <td>0.000561</td>\n",
              "      <td>0.268132</td>\n",
              "      <td>-0.002324</td>\n",
              "      <td>0.001922</td>\n",
              "    </tr>\n",
              "  </tbody>\n",
              "</table>\n",
              "</div>\n",
              "      <button class=\"colab-df-convert\" onclick=\"convertToInteractive('df-177bc0e4-ea70-49ba-87d6-354bca013ef1')\"\n",
              "              title=\"Convert this dataframe to an interactive table.\"\n",
              "              style=\"display:none;\">\n",
              "        \n",
              "  <svg xmlns=\"http://www.w3.org/2000/svg\" height=\"24px\"viewBox=\"0 0 24 24\"\n",
              "       width=\"24px\">\n",
              "    <path d=\"M0 0h24v24H0V0z\" fill=\"none\"/>\n",
              "    <path d=\"M18.56 5.44l.94 2.06.94-2.06 2.06-.94-2.06-.94-.94-2.06-.94 2.06-2.06.94zm-11 1L8.5 8.5l.94-2.06 2.06-.94-2.06-.94L8.5 2.5l-.94 2.06-2.06.94zm10 10l.94 2.06.94-2.06 2.06-.94-2.06-.94-.94-2.06-.94 2.06-2.06.94z\"/><path d=\"M17.41 7.96l-1.37-1.37c-.4-.4-.92-.59-1.43-.59-.52 0-1.04.2-1.43.59L10.3 9.45l-7.72 7.72c-.78.78-.78 2.05 0 2.83L4 21.41c.39.39.9.59 1.41.59.51 0 1.02-.2 1.41-.59l7.78-7.78 2.81-2.81c.8-.78.8-2.07 0-2.86zM5.41 20L4 18.59l7.72-7.72 1.47 1.35L5.41 20z\"/>\n",
              "  </svg>\n",
              "      </button>\n",
              "      \n",
              "  <style>\n",
              "    .colab-df-container {\n",
              "      display:flex;\n",
              "      flex-wrap:wrap;\n",
              "      gap: 12px;\n",
              "    }\n",
              "\n",
              "    .colab-df-convert {\n",
              "      background-color: #E8F0FE;\n",
              "      border: none;\n",
              "      border-radius: 50%;\n",
              "      cursor: pointer;\n",
              "      display: none;\n",
              "      fill: #1967D2;\n",
              "      height: 32px;\n",
              "      padding: 0 0 0 0;\n",
              "      width: 32px;\n",
              "    }\n",
              "\n",
              "    .colab-df-convert:hover {\n",
              "      background-color: #E2EBFA;\n",
              "      box-shadow: 0px 1px 2px rgba(60, 64, 67, 0.3), 0px 1px 3px 1px rgba(60, 64, 67, 0.15);\n",
              "      fill: #174EA6;\n",
              "    }\n",
              "\n",
              "    [theme=dark] .colab-df-convert {\n",
              "      background-color: #3B4455;\n",
              "      fill: #D2E3FC;\n",
              "    }\n",
              "\n",
              "    [theme=dark] .colab-df-convert:hover {\n",
              "      background-color: #434B5C;\n",
              "      box-shadow: 0px 1px 3px 1px rgba(0, 0, 0, 0.15);\n",
              "      filter: drop-shadow(0px 1px 2px rgba(0, 0, 0, 0.3));\n",
              "      fill: #FFFFFF;\n",
              "    }\n",
              "  </style>\n",
              "\n",
              "      <script>\n",
              "        const buttonEl =\n",
              "          document.querySelector('#df-177bc0e4-ea70-49ba-87d6-354bca013ef1 button.colab-df-convert');\n",
              "        buttonEl.style.display =\n",
              "          google.colab.kernel.accessAllowed ? 'block' : 'none';\n",
              "\n",
              "        async function convertToInteractive(key) {\n",
              "          const element = document.querySelector('#df-177bc0e4-ea70-49ba-87d6-354bca013ef1');\n",
              "          const dataTable =\n",
              "            await google.colab.kernel.invokeFunction('convertToInteractive',\n",
              "                                                     [key], {});\n",
              "          if (!dataTable) return;\n",
              "\n",
              "          const docLinkHtml = 'Like what you see? Visit the ' +\n",
              "            '<a target=\"_blank\" href=https://colab.research.google.com/notebooks/data_table.ipynb>data table notebook</a>'\n",
              "            + ' to learn more about interactive tables.';\n",
              "          element.innerHTML = '';\n",
              "          dataTable['output_type'] = 'display_data';\n",
              "          await google.colab.output.renderOutput(dataTable, element);\n",
              "          const docLink = document.createElement('div');\n",
              "          docLink.innerHTML = docLinkHtml;\n",
              "          element.appendChild(docLink);\n",
              "        }\n",
              "      </script>\n",
              "    </div>\n",
              "  </div>\n",
              "  "
            ],
            "text/plain": [
              "           מחל        פה        שס  ...      ודעם         ג        נץ\n",
              "מחל   0.770767 -0.002748  0.008603  ...  0.029398 -0.025813 -0.217624\n",
              "פה   -0.007965  0.498495 -0.015320  ... -0.002319  0.006500 -0.008591\n",
              "שס    0.016686  0.245991  0.000685  ... -0.004226 -0.001140 -0.080139\n",
              "כן    0.002406 -0.005217  0.854540  ...  0.001281 -0.006170 -0.248321\n",
              "ג    -0.024184  0.088943  0.013450  ... -0.005236 -0.004654  0.136190\n",
              "אמת   0.075063  0.050578 -0.019751  ... -0.001934  0.004013 -1.087748\n",
              "ב     0.004897  0.019047 -0.003025  ... -0.000066  0.001648  0.042408\n",
              "ל     0.001799 -0.028192  0.062889  ... -0.000288  0.034701  3.465890\n",
              "ודעם -0.030554  0.035997  0.012776  ...  0.015785 -0.002544  0.071373\n",
              "ט     0.064695  0.091952 -0.024578  ...  0.001589  0.005700 -0.221719\n",
              "ת    -0.003477  0.002719  0.016410  ...  0.000524  0.886372 -0.794049\n",
              "מרצ   0.003784 -0.006308 -0.009764  ...  0.319362  0.003193  0.003605\n",
              "עם   -0.001801  0.003695  0.006823  ...  0.268132 -0.002324  0.001922\n",
              "\n",
              "[13 rows x 9 columns]"
            ]
          },
          "metadata": {},
          "execution_count": 3
        }
      ]
    },
    {
      "cell_type": "code",
      "source": [
        "#Plot Func:\n",
        "def heatmap(matrix):\n",
        "    names_y = matrix.index.values\n",
        "    names_x = matrix.columns.values\n",
        "    rev_names_y = [name[::-1] for name in list(names_y)]\n",
        "    rev_names_x = [name[::-1] for name in list(names_x)]\n",
        "    fig, ax = plt.subplots()\n",
        "    im = ax.imshow(matrix, cmap=plt.get_cmap('viridis'))\n",
        "    n = matrix.shape  # get number of variables \n",
        "    ax.set_xticks(np.arange(n[1]))\n",
        "    ax.set_yticks(np.arange(n[0]))\n",
        "    plt.xticks(rotation = 90)\n",
        "    ax.set_xticklabels(rev_names_x)\n",
        "    ax.set_yticklabels(rev_names_y)\n",
        "    ax.set_title(\"2020\")\n",
        "    \n",
        "    # Create colorbar\n",
        "    cbar = ax.figure.colorbar(im, ax=ax) #  **cbar_kw)\n",
        "    cbar.ax.set_ylabel('2021', rotation=-90, va=\"bottom\")\n",
        "\n",
        "heatmap(M_matrix)"
      ],
      "metadata": {
        "colab": {
          "base_uri": "https://localhost:8080/",
          "height": 297
        },
        "id": "SjKQTPVSy0Gk",
        "outputId": "44a4af87-3d85-47d4-a25c-c11e7e644f7b"
      },
      "execution_count": 4,
      "outputs": [
        {
          "output_type": "display_data",
          "data": {
            "image/png": "[encoded data removed]",
            "text/plain": [
              "<Figure size 432x288 with 2 Axes>"
            ]
          },
          "metadata": {
            "needs_background": "light"
          }
        }
      ]
    },
    {
      "cell_type": "markdown",
      "source": [
        "The heatmap after we rearrange the values manually:"
      ],
      "metadata": {
        "id": "TbdLPPp8ajr8"
      }
    },
    {
      "cell_type": "code",
      "source": [
        "#Sorting the values again so the higher values would be around the diagonal.\n",
        "names_new_21 = [ 'מחל','ב','כן','מרצ', 'ל', 'ת','אמת','ג','ט','שס', 'פה','ודעם','עם']\n",
        "names_new_20 = [ 'מחל','ל', 'שס', 'ודעם', 'נץ',  'ג', 'טב', 'אמת']\n",
        "M_matrix2 = M_matrix.reindex(names_new_20, axis =1)\n",
        "M_matrix2 = M_matrix2.reindex(names_new_21)\n",
        "heatmap(M_matrix2)"
      ],
      "metadata": {
        "colab": {
          "base_uri": "https://localhost:8080/",
          "height": 297
        },
        "id": "Q5_-BUuJa0-V",
        "outputId": "2bdb6989-303a-45b6-b8db-2b131ea3b3b9"
      },
      "execution_count": 5,
      "outputs": [
        {
          "output_type": "display_data",
          "data": {
            "image/png": "[encoded data removed]",
            "text/plain": [
              "<Figure size 432x288 with 2 Axes>"
            ]
          },
          "metadata": {
            "needs_background": "light"
          }
        }
      ]
    },
    {
      "cell_type": "code",
      "source": [
        "normalized_matrix= M_matrix.copy()\n",
        "normalized_matrix[normalized_matrix<(0.5/100)]=0\n",
        "\n",
        "\n",
        "#The new matrix that contains zeros below 0.5% threshold and each row sums to 1:\n",
        "normalized_matrix.shape #(13, 9)\n",
        "normalized_matrix.sum(axis=1).shape #(13,)\n",
        "normalized_matrix = normalized_matrix.T.div(normalized_matrix.sum(axis=1)).T\n",
        "normalized_matrix.sum(axis=1)\n",
        "heatmap(normalized_matrix)\n",
        "normalized_matrix"
      ],
      "metadata": {
        "colab": {
          "base_uri": "https://localhost:8080/",
          "height": 737
        },
        "id": "z_dQcRm3xaQw",
        "outputId": "49bd6936-984f-43fa-ef17-9b5cdc399886"
      },
      "execution_count": 6,
      "outputs": [
        {
          "output_type": "execute_result",
          "data": {
            "text/html": [
              "\n",
              "  <div id=\"df-a0ff064f-101d-4590-8a09-a737e915178b\">\n",
              "    <div class=\"colab-df-container\">\n",
              "      <div>\n",
              "<style scoped>\n",
              "    .dataframe tbody tr th:only-of-type {\n",
              "        vertical-align: middle;\n",
              "    }\n",
              "\n",
              "    .dataframe tbody tr th {\n",
              "        vertical-align: top;\n",
              "    }\n",
              "\n",
              "    .dataframe thead th {\n",
              "        text-align: right;\n",
              "    }\n",
              "</style>\n",
              "<table border=\"1\" class=\"dataframe\">\n",
              "  <thead>\n",
              "    <tr style=\"text-align: right;\">\n",
              "      <th></th>\n",
              "      <th>מחל</th>\n",
              "      <th>פה</th>\n",
              "      <th>שס</th>\n",
              "      <th>ל</th>\n",
              "      <th>אמת</th>\n",
              "      <th>טב</th>\n",
              "      <th>ודעם</th>\n",
              "      <th>ג</th>\n",
              "      <th>נץ</th>\n",
              "    </tr>\n",
              "  </thead>\n",
              "  <tbody>\n",
              "    <tr>\n",
              "      <th>מחל</th>\n",
              "      <td>0.953014</td>\n",
              "      <td>0.000000</td>\n",
              "      <td>0.010637</td>\n",
              "      <td>0.000000</td>\n",
              "      <td>0.000000</td>\n",
              "      <td>0.000000</td>\n",
              "      <td>0.036349</td>\n",
              "      <td>0.000000</td>\n",
              "      <td>0.000000</td>\n",
              "    </tr>\n",
              "    <tr>\n",
              "      <th>פה</th>\n",
              "      <td>0.000000</td>\n",
              "      <td>0.785737</td>\n",
              "      <td>0.000000</td>\n",
              "      <td>0.204018</td>\n",
              "      <td>0.000000</td>\n",
              "      <td>0.000000</td>\n",
              "      <td>0.000000</td>\n",
              "      <td>0.010245</td>\n",
              "      <td>0.000000</td>\n",
              "    </tr>\n",
              "    <tr>\n",
              "      <th>שס</th>\n",
              "      <td>0.063522</td>\n",
              "      <td>0.936478</td>\n",
              "      <td>0.000000</td>\n",
              "      <td>0.000000</td>\n",
              "      <td>0.000000</td>\n",
              "      <td>0.000000</td>\n",
              "      <td>0.000000</td>\n",
              "      <td>0.000000</td>\n",
              "      <td>0.000000</td>\n",
              "    </tr>\n",
              "    <tr>\n",
              "      <th>כן</th>\n",
              "      <td>0.000000</td>\n",
              "      <td>0.000000</td>\n",
              "      <td>0.981181</td>\n",
              "      <td>0.000000</td>\n",
              "      <td>0.018819</td>\n",
              "      <td>0.000000</td>\n",
              "      <td>0.000000</td>\n",
              "      <td>0.000000</td>\n",
              "      <td>0.000000</td>\n",
              "    </tr>\n",
              "    <tr>\n",
              "      <th>ג</th>\n",
              "      <td>0.000000</td>\n",
              "      <td>0.097601</td>\n",
              "      <td>0.014759</td>\n",
              "      <td>0.000000</td>\n",
              "      <td>0.732637</td>\n",
              "      <td>0.005555</td>\n",
              "      <td>0.000000</td>\n",
              "      <td>0.000000</td>\n",
              "      <td>0.149447</td>\n",
              "    </tr>\n",
              "    <tr>\n",
              "      <th>אמת</th>\n",
              "      <td>0.119613</td>\n",
              "      <td>0.080597</td>\n",
              "      <td>0.000000</td>\n",
              "      <td>0.000000</td>\n",
              "      <td>0.000000</td>\n",
              "      <td>0.799789</td>\n",
              "      <td>0.000000</td>\n",
              "      <td>0.000000</td>\n",
              "      <td>0.000000</td>\n",
              "    </tr>\n",
              "    <tr>\n",
              "      <th>ב</th>\n",
              "      <td>0.000000</td>\n",
              "      <td>0.024061</td>\n",
              "      <td>0.000000</td>\n",
              "      <td>0.915499</td>\n",
              "      <td>0.006869</td>\n",
              "      <td>0.000000</td>\n",
              "      <td>0.000000</td>\n",
              "      <td>0.000000</td>\n",
              "      <td>0.053572</td>\n",
              "    </tr>\n",
              "    <tr>\n",
              "      <th>ל</th>\n",
              "      <td>0.000000</td>\n",
              "      <td>0.000000</td>\n",
              "      <td>0.014988</td>\n",
              "      <td>0.000000</td>\n",
              "      <td>0.003469</td>\n",
              "      <td>0.147291</td>\n",
              "      <td>0.000000</td>\n",
              "      <td>0.008270</td>\n",
              "      <td>0.825983</td>\n",
              "    </tr>\n",
              "    <tr>\n",
              "      <th>ודעם</th>\n",
              "      <td>0.000000</td>\n",
              "      <td>0.044961</td>\n",
              "      <td>0.015957</td>\n",
              "      <td>0.000000</td>\n",
              "      <td>0.830220</td>\n",
              "      <td>0.000000</td>\n",
              "      <td>0.019716</td>\n",
              "      <td>0.000000</td>\n",
              "      <td>0.089146</td>\n",
              "    </tr>\n",
              "    <tr>\n",
              "      <th>ט</th>\n",
              "      <td>0.263987</td>\n",
              "      <td>0.375209</td>\n",
              "      <td>0.000000</td>\n",
              "      <td>0.211148</td>\n",
              "      <td>0.000000</td>\n",
              "      <td>0.126396</td>\n",
              "      <td>0.000000</td>\n",
              "      <td>0.023260</td>\n",
              "      <td>0.000000</td>\n",
              "    </tr>\n",
              "    <tr>\n",
              "      <th>ת</th>\n",
              "      <td>0.000000</td>\n",
              "      <td>0.000000</td>\n",
              "      <td>0.018177</td>\n",
              "      <td>0.000000</td>\n",
              "      <td>0.000000</td>\n",
              "      <td>0.000000</td>\n",
              "      <td>0.000000</td>\n",
              "      <td>0.981823</td>\n",
              "      <td>0.000000</td>\n",
              "    </tr>\n",
              "    <tr>\n",
              "      <th>מרצ</th>\n",
              "      <td>0.000000</td>\n",
              "      <td>0.000000</td>\n",
              "      <td>0.000000</td>\n",
              "      <td>0.064309</td>\n",
              "      <td>0.056902</td>\n",
              "      <td>0.000000</td>\n",
              "      <td>0.878789</td>\n",
              "      <td>0.000000</td>\n",
              "      <td>0.000000</td>\n",
              "    </tr>\n",
              "    <tr>\n",
              "      <th>עם</th>\n",
              "      <td>0.000000</td>\n",
              "      <td>0.000000</td>\n",
              "      <td>0.024814</td>\n",
              "      <td>0.000000</td>\n",
              "      <td>0.000000</td>\n",
              "      <td>0.000000</td>\n",
              "      <td>0.975186</td>\n",
              "      <td>0.000000</td>\n",
              "      <td>0.000000</td>\n",
              "    </tr>\n",
              "  </tbody>\n",
              "</table>\n",
              "</div>\n",
              "      <button class=\"colab-df-convert\" onclick=\"convertToInteractive('df-a0ff064f-101d-4590-8a09-a737e915178b')\"\n",
              "              title=\"Convert this dataframe to an interactive table.\"\n",
              "              style=\"display:none;\">\n",
              "        \n",
              "  <svg xmlns=\"http://www.w3.org/2000/svg\" height=\"24px\"viewBox=\"0 0 24 24\"\n",
              "       width=\"24px\">\n",
              "    <path d=\"M0 0h24v24H0V0z\" fill=\"none\"/>\n",
              "    <path d=\"M18.56 5.44l.94 2.06.94-2.06 2.06-.94-2.06-.94-.94-2.06-.94 2.06-2.06.94zm-11 1L8.5 8.5l.94-2.06 2.06-.94-2.06-.94L8.5 2.5l-.94 2.06-2.06.94zm10 10l.94 2.06.94-2.06 2.06-.94-2.06-.94-.94-2.06-.94 2.06-2.06.94z\"/><path d=\"M17.41 7.96l-1.37-1.37c-.4-.4-.92-.59-1.43-.59-.52 0-1.04.2-1.43.59L10.3 9.45l-7.72 7.72c-.78.78-.78 2.05 0 2.83L4 21.41c.39.39.9.59 1.41.59.51 0 1.02-.2 1.41-.59l7.78-7.78 2.81-2.81c.8-.78.8-2.07 0-2.86zM5.41 20L4 18.59l7.72-7.72 1.47 1.35L5.41 20z\"/>\n",
              "  </svg>\n",
              "      </button>\n",
              "      \n",
              "  <style>\n",
              "    .colab-df-container {\n",
              "      display:flex;\n",
              "      flex-wrap:wrap;\n",
              "      gap: 12px;\n",
              "    }\n",
              "\n",
              "    .colab-df-convert {\n",
              "      background-color: #E8F0FE;\n",
              "      border: none;\n",
              "      border-radius: 50%;\n",
              "      cursor: pointer;\n",
              "      display: none;\n",
              "      fill: #1967D2;\n",
              "      height: 32px;\n",
              "      padding: 0 0 0 0;\n",
              "      width: 32px;\n",
              "    }\n",
              "\n",
              "    .colab-df-convert:hover {\n",
              "      background-color: #E2EBFA;\n",
              "      box-shadow: 0px 1px 2px rgba(60, 64, 67, 0.3), 0px 1px 3px 1px rgba(60, 64, 67, 0.15);\n",
              "      fill: #174EA6;\n",
              "    }\n",
              "\n",
              "    [theme=dark] .colab-df-convert {\n",
              "      background-color: #3B4455;\n",
              "      fill: #D2E3FC;\n",
              "    }\n",
              "\n",
              "    [theme=dark] .colab-df-convert:hover {\n",
              "      background-color: #434B5C;\n",
              "      box-shadow: 0px 1px 3px 1px rgba(0, 0, 0, 0.15);\n",
              "      filter: drop-shadow(0px 1px 2px rgba(0, 0, 0, 0.3));\n",
              "      fill: #FFFFFF;\n",
              "    }\n",
              "  </style>\n",
              "\n",
              "      <script>\n",
              "        const buttonEl =\n",
              "          document.querySelector('#df-a0ff064f-101d-4590-8a09-a737e915178b button.colab-df-convert');\n",
              "        buttonEl.style.display =\n",
              "          google.colab.kernel.accessAllowed ? 'block' : 'none';\n",
              "\n",
              "        async function convertToInteractive(key) {\n",
              "          const element = document.querySelector('#df-a0ff064f-101d-4590-8a09-a737e915178b');\n",
              "          const dataTable =\n",
              "            await google.colab.kernel.invokeFunction('convertToInteractive',\n",
              "                                                     [key], {});\n",
              "          if (!dataTable) return;\n",
              "\n",
              "          const docLinkHtml = 'Like what you see? Visit the ' +\n",
              "            '<a target=\"_blank\" href=https://colab.research.google.com/notebooks/data_table.ipynb>data table notebook</a>'\n",
              "            + ' to learn more about interactive tables.';\n",
              "          element.innerHTML = '';\n",
              "          dataTable['output_type'] = 'display_data';\n",
              "          await google.colab.output.renderOutput(dataTable, element);\n",
              "          const docLink = document.createElement('div');\n",
              "          docLink.innerHTML = docLinkHtml;\n",
              "          element.appendChild(docLink);\n",
              "        }\n",
              "      </script>\n",
              "    </div>\n",
              "  </div>\n",
              "  "
            ],
            "text/plain": [
              "           מחל        פה        שס  ...      ודעם         ג        נץ\n",
              "מחל   0.953014  0.000000  0.010637  ...  0.036349  0.000000  0.000000\n",
              "פה    0.000000  0.785737  0.000000  ...  0.000000  0.010245  0.000000\n",
              "שס    0.063522  0.936478  0.000000  ...  0.000000  0.000000  0.000000\n",
              "כן    0.000000  0.000000  0.981181  ...  0.000000  0.000000  0.000000\n",
              "ג     0.000000  0.097601  0.014759  ...  0.000000  0.000000  0.149447\n",
              "אמת   0.119613  0.080597  0.000000  ...  0.000000  0.000000  0.000000\n",
              "ב     0.000000  0.024061  0.000000  ...  0.000000  0.000000  0.053572\n",
              "ל     0.000000  0.000000  0.014988  ...  0.000000  0.008270  0.825983\n",
              "ודעם  0.000000  0.044961  0.015957  ...  0.019716  0.000000  0.089146\n",
              "ט     0.263987  0.375209  0.000000  ...  0.000000  0.023260  0.000000\n",
              "ת     0.000000  0.000000  0.018177  ...  0.000000  0.981823  0.000000\n",
              "מרצ   0.000000  0.000000  0.000000  ...  0.878789  0.000000  0.000000\n",
              "עם    0.000000  0.000000  0.024814  ...  0.975186  0.000000  0.000000\n",
              "\n",
              "[13 rows x 9 columns]"
            ]
          },
          "metadata": {},
          "execution_count": 6
        },
        {
          "output_type": "display_data",
          "data": {
            "image/png": "[encoded data removed]",
            "text/plain": [
              "<Figure size 432x288 with 2 Axes>"
            ]
          },
          "metadata": {
            "needs_background": "light"
          }
        }
      ]
    },
    {
      "cell_type": "markdown",
      "source": [
        "according to the heatmap above, we can see the Meretz and Haavoda had some exchanges between them, also between haavoda and ra'am. a strange exchange for example is  between Shas and Kahol lavan."
      ],
      "metadata": {
        "id": "T2Bb6cL9hk98"
      }
    },
    {
      "cell_type": "markdown",
      "source": [
        "Applying non-negative least squares model for the same setting:"
      ],
      "metadata": {
        "id": "75U_SAPnil5F"
      }
    },
    {
      "cell_type": "code",
      "source": [
        "nnls_matrix = pd.DataFrame()\n",
        "for i in range(len(names_20)):\n",
        " x = nnls(Nij_21, Nij_20.iloc[:,i])\n",
        " nnls_matrix[names_20[i]] = x[0]\n",
        "nnls_matrix.index = b21_p.index.values\n",
        "nnls_matrix"
      ],
      "metadata": {
        "colab": {
          "base_uri": "https://localhost:8080/",
          "height": 457
        },
        "id": "Q13b58Vfizg1",
        "outputId": "cedaedec-d0f1-4ba5-ee17-0281bb6ce592"
      },
      "execution_count": 7,
      "outputs": [
        {
          "output_type": "execute_result",
          "data": {
            "text/html": [
              "\n",
              "  <div id=\"df-ee029dbc-c62e-4dc7-83f9-9d3f9a115172\">\n",
              "    <div class=\"colab-df-container\">\n",
              "      <div>\n",
              "<style scoped>\n",
              "    .dataframe tbody tr th:only-of-type {\n",
              "        vertical-align: middle;\n",
              "    }\n",
              "\n",
              "    .dataframe tbody tr th {\n",
              "        vertical-align: top;\n",
              "    }\n",
              "\n",
              "    .dataframe thead th {\n",
              "        text-align: right;\n",
              "    }\n",
              "</style>\n",
              "<table border=\"1\" class=\"dataframe\">\n",
              "  <thead>\n",
              "    <tr style=\"text-align: right;\">\n",
              "      <th></th>\n",
              "      <th>מחל</th>\n",
              "      <th>פה</th>\n",
              "      <th>שס</th>\n",
              "      <th>ל</th>\n",
              "      <th>אמת</th>\n",
              "      <th>טב</th>\n",
              "      <th>ודעם</th>\n",
              "      <th>ג</th>\n",
              "      <th>נץ</th>\n",
              "    </tr>\n",
              "  </thead>\n",
              "  <tbody>\n",
              "    <tr>\n",
              "      <th>מחל</th>\n",
              "      <td>1.174950</td>\n",
              "      <td>0.000000</td>\n",
              "      <td>0.021953</td>\n",
              "      <td>0.010232</td>\n",
              "      <td>0.015335</td>\n",
              "      <td>0.000000</td>\n",
              "      <td>0.000000</td>\n",
              "      <td>0.000000</td>\n",
              "      <td>0.005738</td>\n",
              "    </tr>\n",
              "    <tr>\n",
              "      <th>פה</th>\n",
              "      <td>0.000000</td>\n",
              "      <td>1.073587</td>\n",
              "      <td>0.000000</td>\n",
              "      <td>0.000000</td>\n",
              "      <td>0.000000</td>\n",
              "      <td>0.000000</td>\n",
              "      <td>0.000000</td>\n",
              "      <td>0.000000</td>\n",
              "      <td>0.000000</td>\n",
              "    </tr>\n",
              "    <tr>\n",
              "      <th>שס</th>\n",
              "      <td>0.000000</td>\n",
              "      <td>1.213810</td>\n",
              "      <td>0.000000</td>\n",
              "      <td>0.000000</td>\n",
              "      <td>0.000000</td>\n",
              "      <td>0.000000</td>\n",
              "      <td>0.000000</td>\n",
              "      <td>0.000000</td>\n",
              "      <td>0.000000</td>\n",
              "    </tr>\n",
              "    <tr>\n",
              "      <th>כן</th>\n",
              "      <td>0.082556</td>\n",
              "      <td>0.000000</td>\n",
              "      <td>1.054547</td>\n",
              "      <td>0.008139</td>\n",
              "      <td>0.010242</td>\n",
              "      <td>0.000000</td>\n",
              "      <td>0.000000</td>\n",
              "      <td>0.000000</td>\n",
              "      <td>0.008340</td>\n",
              "    </tr>\n",
              "    <tr>\n",
              "      <th>ג</th>\n",
              "      <td>0.000000</td>\n",
              "      <td>0.419351</td>\n",
              "      <td>0.000000</td>\n",
              "      <td>0.000000</td>\n",
              "      <td>0.510383</td>\n",
              "      <td>0.000000</td>\n",
              "      <td>0.004557</td>\n",
              "      <td>0.000000</td>\n",
              "      <td>0.001010</td>\n",
              "    </tr>\n",
              "    <tr>\n",
              "      <th>אמת</th>\n",
              "      <td>0.162795</td>\n",
              "      <td>0.000000</td>\n",
              "      <td>0.000000</td>\n",
              "      <td>0.000000</td>\n",
              "      <td>0.007723</td>\n",
              "      <td>0.656441</td>\n",
              "      <td>0.000000</td>\n",
              "      <td>0.000000</td>\n",
              "      <td>0.000000</td>\n",
              "    </tr>\n",
              "    <tr>\n",
              "      <th>ב</th>\n",
              "      <td>0.095180</td>\n",
              "      <td>0.000000</td>\n",
              "      <td>0.000000</td>\n",
              "      <td>1.151504</td>\n",
              "      <td>0.005843</td>\n",
              "      <td>0.000000</td>\n",
              "      <td>0.000000</td>\n",
              "      <td>0.000937</td>\n",
              "      <td>0.000000</td>\n",
              "    </tr>\n",
              "    <tr>\n",
              "      <th>ל</th>\n",
              "      <td>0.140508</td>\n",
              "      <td>0.000000</td>\n",
              "      <td>0.038036</td>\n",
              "      <td>0.000000</td>\n",
              "      <td>0.000000</td>\n",
              "      <td>0.665911</td>\n",
              "      <td>0.000000</td>\n",
              "      <td>0.114271</td>\n",
              "      <td>0.051636</td>\n",
              "    </tr>\n",
              "    <tr>\n",
              "      <th>ודעם</th>\n",
              "      <td>0.000000</td>\n",
              "      <td>0.346502</td>\n",
              "      <td>0.000000</td>\n",
              "      <td>0.000000</td>\n",
              "      <td>0.630948</td>\n",
              "      <td>0.000000</td>\n",
              "      <td>0.021521</td>\n",
              "      <td>0.000140</td>\n",
              "      <td>0.000000</td>\n",
              "    </tr>\n",
              "    <tr>\n",
              "      <th>ט</th>\n",
              "      <td>0.294303</td>\n",
              "      <td>0.361389</td>\n",
              "      <td>0.000000</td>\n",
              "      <td>0.000000</td>\n",
              "      <td>0.000000</td>\n",
              "      <td>0.000000</td>\n",
              "      <td>0.000000</td>\n",
              "      <td>0.000000</td>\n",
              "      <td>0.000000</td>\n",
              "    </tr>\n",
              "    <tr>\n",
              "      <th>ת</th>\n",
              "      <td>0.000000</td>\n",
              "      <td>0.000000</td>\n",
              "      <td>0.035864</td>\n",
              "      <td>0.000000</td>\n",
              "      <td>0.000000</td>\n",
              "      <td>0.000000</td>\n",
              "      <td>0.000377</td>\n",
              "      <td>1.070732</td>\n",
              "      <td>0.000630</td>\n",
              "    </tr>\n",
              "    <tr>\n",
              "      <th>מרצ</th>\n",
              "      <td>0.000000</td>\n",
              "      <td>0.000000</td>\n",
              "      <td>0.000000</td>\n",
              "      <td>0.006795</td>\n",
              "      <td>0.000000</td>\n",
              "      <td>0.000000</td>\n",
              "      <td>1.634013</td>\n",
              "      <td>0.001441</td>\n",
              "      <td>0.000000</td>\n",
              "    </tr>\n",
              "    <tr>\n",
              "      <th>עם</th>\n",
              "      <td>0.000000</td>\n",
              "      <td>0.022113</td>\n",
              "      <td>0.000000</td>\n",
              "      <td>0.000000</td>\n",
              "      <td>0.002050</td>\n",
              "      <td>0.000000</td>\n",
              "      <td>1.547392</td>\n",
              "      <td>0.000000</td>\n",
              "      <td>0.000000</td>\n",
              "    </tr>\n",
              "  </tbody>\n",
              "</table>\n",
              "</div>\n",
              "      <button class=\"colab-df-convert\" onclick=\"convertToInteractive('df-ee029dbc-c62e-4dc7-83f9-9d3f9a115172')\"\n",
              "              title=\"Convert this dataframe to an interactive table.\"\n",
              "              style=\"display:none;\">\n",
              "        \n",
              "  <svg xmlns=\"http://www.w3.org/2000/svg\" height=\"24px\"viewBox=\"0 0 24 24\"\n",
              "       width=\"24px\">\n",
              "    <path d=\"M0 0h24v24H0V0z\" fill=\"none\"/>\n",
              "    <path d=\"M18.56 5.44l.94 2.06.94-2.06 2.06-.94-2.06-.94-.94-2.06-.94 2.06-2.06.94zm-11 1L8.5 8.5l.94-2.06 2.06-.94-2.06-.94L8.5 2.5l-.94 2.06-2.06.94zm10 10l.94 2.06.94-2.06 2.06-.94-2.06-.94-.94-2.06-.94 2.06-2.06.94z\"/><path d=\"M17.41 7.96l-1.37-1.37c-.4-.4-.92-.59-1.43-.59-.52 0-1.04.2-1.43.59L10.3 9.45l-7.72 7.72c-.78.78-.78 2.05 0 2.83L4 21.41c.39.39.9.59 1.41.59.51 0 1.02-.2 1.41-.59l7.78-7.78 2.81-2.81c.8-.78.8-2.07 0-2.86zM5.41 20L4 18.59l7.72-7.72 1.47 1.35L5.41 20z\"/>\n",
              "  </svg>\n",
              "      </button>\n",
              "      \n",
              "  <style>\n",
              "    .colab-df-container {\n",
              "      display:flex;\n",
              "      flex-wrap:wrap;\n",
              "      gap: 12px;\n",
              "    }\n",
              "\n",
              "    .colab-df-convert {\n",
              "      background-color: #E8F0FE;\n",
              "      border: none;\n",
              "      border-radius: 50%;\n",
              "      cursor: pointer;\n",
              "      display: none;\n",
              "      fill: #1967D2;\n",
              "      height: 32px;\n",
              "      padding: 0 0 0 0;\n",
              "      width: 32px;\n",
              "    }\n",
              "\n",
              "    .colab-df-convert:hover {\n",
              "      background-color: #E2EBFA;\n",
              "      box-shadow: 0px 1px 2px rgba(60, 64, 67, 0.3), 0px 1px 3px 1px rgba(60, 64, 67, 0.15);\n",
              "      fill: #174EA6;\n",
              "    }\n",
              "\n",
              "    [theme=dark] .colab-df-convert {\n",
              "      background-color: #3B4455;\n",
              "      fill: #D2E3FC;\n",
              "    }\n",
              "\n",
              "    [theme=dark] .colab-df-convert:hover {\n",
              "      background-color: #434B5C;\n",
              "      box-shadow: 0px 1px 3px 1px rgba(0, 0, 0, 0.15);\n",
              "      filter: drop-shadow(0px 1px 2px rgba(0, 0, 0, 0.3));\n",
              "      fill: #FFFFFF;\n",
              "    }\n",
              "  </style>\n",
              "\n",
              "      <script>\n",
              "        const buttonEl =\n",
              "          document.querySelector('#df-ee029dbc-c62e-4dc7-83f9-9d3f9a115172 button.colab-df-convert');\n",
              "        buttonEl.style.display =\n",
              "          google.colab.kernel.accessAllowed ? 'block' : 'none';\n",
              "\n",
              "        async function convertToInteractive(key) {\n",
              "          const element = document.querySelector('#df-ee029dbc-c62e-4dc7-83f9-9d3f9a115172');\n",
              "          const dataTable =\n",
              "            await google.colab.kernel.invokeFunction('convertToInteractive',\n",
              "                                                     [key], {});\n",
              "          if (!dataTable) return;\n",
              "\n",
              "          const docLinkHtml = 'Like what you see? Visit the ' +\n",
              "            '<a target=\"_blank\" href=https://colab.research.google.com/notebooks/data_table.ipynb>data table notebook</a>'\n",
              "            + ' to learn more about interactive tables.';\n",
              "          element.innerHTML = '';\n",
              "          dataTable['output_type'] = 'display_data';\n",
              "          await google.colab.output.renderOutput(dataTable, element);\n",
              "          const docLink = document.createElement('div');\n",
              "          docLink.innerHTML = docLinkHtml;\n",
              "          element.appendChild(docLink);\n",
              "        }\n",
              "      </script>\n",
              "    </div>\n",
              "  </div>\n",
              "  "
            ],
            "text/plain": [
              "           מחל        פה        שס  ...      ודעם         ג        נץ\n",
              "מחל   1.174950  0.000000  0.021953  ...  0.000000  0.000000  0.005738\n",
              "פה    0.000000  1.073587  0.000000  ...  0.000000  0.000000  0.000000\n",
              "שס    0.000000  1.213810  0.000000  ...  0.000000  0.000000  0.000000\n",
              "כן    0.082556  0.000000  1.054547  ...  0.000000  0.000000  0.008340\n",
              "ג     0.000000  0.419351  0.000000  ...  0.004557  0.000000  0.001010\n",
              "אמת   0.162795  0.000000  0.000000  ...  0.000000  0.000000  0.000000\n",
              "ב     0.095180  0.000000  0.000000  ...  0.000000  0.000937  0.000000\n",
              "ל     0.140508  0.000000  0.038036  ...  0.000000  0.114271  0.051636\n",
              "ודעם  0.000000  0.346502  0.000000  ...  0.021521  0.000140  0.000000\n",
              "ט     0.294303  0.361389  0.000000  ...  0.000000  0.000000  0.000000\n",
              "ת     0.000000  0.000000  0.035864  ...  0.000377  1.070732  0.000630\n",
              "מרצ   0.000000  0.000000  0.000000  ...  1.634013  0.001441  0.000000\n",
              "עם    0.000000  0.022113  0.000000  ...  1.547392  0.000000  0.000000\n",
              "\n",
              "[13 rows x 9 columns]"
            ]
          },
          "metadata": {},
          "execution_count": 7
        }
      ]
    },
    {
      "cell_type": "markdown",
      "source": [
        "Now we need to repeat section b (0.5% threshold, normalize and sum each row equals 1):\n"
      ],
      "metadata": {
        "id": "656otuBVwfsG"
      }
    },
    {
      "cell_type": "code",
      "source": [
        "nnls_matrix[nnls_matrix<(0.5/100)]=0\n",
        "nnls_matrix = nnls_matrix.T.div(nnls_matrix.sum(axis=1)).T\n",
        "nnls_matrix.sum(axis=1) # Sum rows == 1\n",
        "nnls_matrix\n",
        "print(\"Non Negative Least squares heatmap:\")\n",
        "heatmap(nnls_matrix)\n"
      ],
      "metadata": {
        "colab": {
          "base_uri": "https://localhost:8080/",
          "height": 314
        },
        "id": "bRY0_O2Mw5BE",
        "outputId": "4e0ece60-52e0-4f50-8fab-54a0aba7227b"
      },
      "execution_count": 8,
      "outputs": [
        {
          "output_type": "stream",
          "name": "stdout",
          "text": [
            "Non Negative Least squares heatmap:\n"
          ]
        },
        {
          "output_type": "display_data",
          "data": {
            "image/png": "[encoded data removed]",
            "text/plain": [
              "<Figure size 432x288 with 2 Axes>"
            ]
          },
          "metadata": {
            "needs_background": "light"
          }
        }
      ]
    },
    {
      "cell_type": "code",
      "source": [
        "print(\"Regular Least squares heatmap: \")\n",
        "heatmap(normalized_matrix)"
      ],
      "metadata": {
        "colab": {
          "base_uri": "https://localhost:8080/",
          "height": 314
        },
        "id": "h6ukIF-eyejl",
        "outputId": "2ade73b0-2e8e-4ab7-bdb9-9588675df554"
      },
      "execution_count": 9,
      "outputs": [
        {
          "output_type": "stream",
          "name": "stdout",
          "text": [
            "Regular Least squares heatmap: \n"
          ]
        },
        {
          "output_type": "display_data",
          "data": {
            "image/png": "[encoded data removed]",
            "text/plain": [
              "<Figure size 432x288 with 2 Axes>"
            ]
          },
          "metadata": {
            "needs_background": "light"
          }
        }
      ]
    },
    {
      "cell_type": "markdown",
      "source": [
        "according to the plots above, we can see a slight difference between the two. it is obvious that the Non Negative Least squares heatmap has some data loss compared to the regular least squares because of the limit of the positive numbers. "
      ],
      "metadata": {
        "id": "qiVT3afhxrC2"
      }
    },
    {
      "cell_type": "markdown",
      "source": [
        "# Question 2:"
      ],
      "metadata": {
        "id": "G8Q0hjVtzqHV"
      }
    },
    {
      "cell_type": "markdown",
      "source": [
        "We need to calculate  (bzb_i - total votes_i) which means, the amount of people who didnt vote in each city."
      ],
      "metadata": {
        "id": "ND7Jt1Gqzvie"
      }
    },
    {
      "cell_type": "code",
      "source": [
        "bzb_20 = ballots_merged[\"בזב_20\"]\n",
        "bzb_21 = ballots_merged[\"בזב_21\"]\n",
        "bzb_remains_20 = bzb_20 - Nij_20.sum(axis = 1)\n",
        "bzb_remains_21 = bzb_21 - Nij_21.sum(axis = 1) #(4115,)\n",
        "Nij_21_q2 = pd.concat([Nij_21, bzb_remains_21], axis=1, ignore_index=False)\n",
        "Nij_20_q2 = pd.concat([Nij_20, bzb_remains_20], axis=1, ignore_index=False)\n",
        "Nij_21_q2.shape #(4115, 14)\n",
        "Nij_20_q2.shape #(4115, 10)"
      ],
      "metadata": {
        "id": "RNNSrlFS0VAO",
        "colab": {
          "base_uri": "https://localhost:8080/"
        },
        "outputId": "6b51011d-f62d-4b8c-8b00-0c93e768c25d"
      },
      "execution_count": 10,
      "outputs": [
        {
          "output_type": "execute_result",
          "data": {
            "text/plain": [
              "(4115, 10)"
            ]
          },
          "metadata": {},
          "execution_count": 10
        }
      ]
    },
    {
      "cell_type": "markdown",
      "source": [
        "Now after we have the required matricies, We use the OLS again:"
      ],
      "metadata": {
        "id": "aOVfVtZEn340"
      }
    },
    {
      "cell_type": "code",
      "source": [
        "model = sm.OLS(Nij_21_q2, Nij_20_q2).fit()\n",
        "M_matrix_q2 = model.params\n",
        "names_20 = ['מחל','פה','שס','ל','אמת','טב','ודעם','ג','נץ','בזב20']\n",
        "names_21_2 = ['מחל', 'פה', 'שס', 'כן', 'ג', 'אמת', 'ב', 'ל', 'ודעם', 'ט', 'ת', 'מרצ','עם','בזב21']\n",
        "M_matrix_q2.columns = names_21_2\n",
        "M_matrix_q2.index = names_20\n",
        "M_matrix_q2 = M_matrix_q2 .T\n",
        "M_matrix_q2\n"
      ],
      "metadata": {
        "id": "6FuRFdvC2UX-",
        "colab": {
          "base_uri": "https://localhost:8080/",
          "height": 488
        },
        "outputId": "480cf078-3807-4514-a598-5b753fe5fd01"
      },
      "execution_count": 11,
      "outputs": [
        {
          "output_type": "execute_result",
          "data": {
            "text/html": [
              "\n",
              "  <div id=\"df-3125e950-4b15-450b-aeb0-9d5eb0776fcc\">\n",
              "    <div class=\"colab-df-container\">\n",
              "      <div>\n",
              "<style scoped>\n",
              "    .dataframe tbody tr th:only-of-type {\n",
              "        vertical-align: middle;\n",
              "    }\n",
              "\n",
              "    .dataframe tbody tr th {\n",
              "        vertical-align: top;\n",
              "    }\n",
              "\n",
              "    .dataframe thead th {\n",
              "        text-align: right;\n",
              "    }\n",
              "</style>\n",
              "<table border=\"1\" class=\"dataframe\">\n",
              "  <thead>\n",
              "    <tr style=\"text-align: right;\">\n",
              "      <th></th>\n",
              "      <th>מחל</th>\n",
              "      <th>פה</th>\n",
              "      <th>שס</th>\n",
              "      <th>ל</th>\n",
              "      <th>אמת</th>\n",
              "      <th>טב</th>\n",
              "      <th>ודעם</th>\n",
              "      <th>ג</th>\n",
              "      <th>נץ</th>\n",
              "      <th>בזב20</th>\n",
              "    </tr>\n",
              "  </thead>\n",
              "  <tbody>\n",
              "    <tr>\n",
              "      <th>מחל</th>\n",
              "      <td>0.763817</td>\n",
              "      <td>-0.003913</td>\n",
              "      <td>0.005568</td>\n",
              "      <td>-0.053528</td>\n",
              "      <td>-0.016203</td>\n",
              "      <td>-0.114685</td>\n",
              "      <td>0.021767</td>\n",
              "      <td>-0.030664</td>\n",
              "      <td>-0.227375</td>\n",
              "      <td>0.011755</td>\n",
              "    </tr>\n",
              "    <tr>\n",
              "      <th>פה</th>\n",
              "      <td>-0.003995</td>\n",
              "      <td>0.499160</td>\n",
              "      <td>-0.013586</td>\n",
              "      <td>0.142314</td>\n",
              "      <td>-0.188422</td>\n",
              "      <td>-0.004419</td>\n",
              "      <td>0.002041</td>\n",
              "      <td>0.009271</td>\n",
              "      <td>-0.003020</td>\n",
              "      <td>-0.006716</td>\n",
              "    </tr>\n",
              "    <tr>\n",
              "      <th>שס</th>\n",
              "      <td>0.019889</td>\n",
              "      <td>0.246527</td>\n",
              "      <td>0.002084</td>\n",
              "      <td>-0.059601</td>\n",
              "      <td>-0.041786</td>\n",
              "      <td>0.001279</td>\n",
              "      <td>-0.000710</td>\n",
              "      <td>0.001096</td>\n",
              "      <td>-0.075646</td>\n",
              "      <td>-0.005417</td>\n",
              "    </tr>\n",
              "    <tr>\n",
              "      <th>כן</th>\n",
              "      <td>0.005695</td>\n",
              "      <td>-0.004666</td>\n",
              "      <td>0.855977</td>\n",
              "      <td>0.007891</td>\n",
              "      <td>0.022906</td>\n",
              "      <td>-0.003334</td>\n",
              "      <td>0.004892</td>\n",
              "      <td>-0.003875</td>\n",
              "      <td>-0.243707</td>\n",
              "      <td>-0.005563</td>\n",
              "    </tr>\n",
              "    <tr>\n",
              "      <th>ג</th>\n",
              "      <td>-0.025105</td>\n",
              "      <td>0.088789</td>\n",
              "      <td>0.013048</td>\n",
              "      <td>-0.017956</td>\n",
              "      <td>0.665825</td>\n",
              "      <td>0.004952</td>\n",
              "      <td>-0.006246</td>\n",
              "      <td>-0.005297</td>\n",
              "      <td>0.134899</td>\n",
              "      <td>0.001557</td>\n",
              "    </tr>\n",
              "    <tr>\n",
              "      <th>אמת</th>\n",
              "      <td>0.082163</td>\n",
              "      <td>0.051768</td>\n",
              "      <td>-0.016650</td>\n",
              "      <td>0.000274</td>\n",
              "      <td>-0.024703</td>\n",
              "      <td>0.502757</td>\n",
              "      <td>0.005862</td>\n",
              "      <td>0.008969</td>\n",
              "      <td>-1.077786</td>\n",
              "      <td>-0.012010</td>\n",
              "    </tr>\n",
              "    <tr>\n",
              "      <th>ב</th>\n",
              "      <td>-0.005640</td>\n",
              "      <td>0.017281</td>\n",
              "      <td>-0.007627</td>\n",
              "      <td>0.690550</td>\n",
              "      <td>-0.015437</td>\n",
              "      <td>-0.008773</td>\n",
              "      <td>-0.011634</td>\n",
              "      <td>-0.005706</td>\n",
              "      <td>0.027626</td>\n",
              "      <td>0.017821</td>\n",
              "    </tr>\n",
              "    <tr>\n",
              "      <th>ל</th>\n",
              "      <td>0.003620</td>\n",
              "      <td>-0.027887</td>\n",
              "      <td>0.063685</td>\n",
              "      <td>-0.002632</td>\n",
              "      <td>0.018164</td>\n",
              "      <td>0.618264</td>\n",
              "      <td>0.001712</td>\n",
              "      <td>0.035973</td>\n",
              "      <td>3.468445</td>\n",
              "      <td>-0.003081</td>\n",
              "    </tr>\n",
              "    <tr>\n",
              "      <th>ודעם</th>\n",
              "      <td>-0.032349</td>\n",
              "      <td>0.035696</td>\n",
              "      <td>0.011992</td>\n",
              "      <td>-0.012690</td>\n",
              "      <td>0.661147</td>\n",
              "      <td>-0.003477</td>\n",
              "      <td>0.013814</td>\n",
              "      <td>-0.003797</td>\n",
              "      <td>0.068855</td>\n",
              "      <td>0.003036</td>\n",
              "    </tr>\n",
              "    <tr>\n",
              "      <th>ט</th>\n",
              "      <td>0.067680</td>\n",
              "      <td>0.092452</td>\n",
              "      <td>-0.023274</td>\n",
              "      <td>0.061427</td>\n",
              "      <td>-0.074438</td>\n",
              "      <td>0.031334</td>\n",
              "      <td>0.004866</td>\n",
              "      <td>0.007784</td>\n",
              "      <td>-0.217531</td>\n",
              "      <td>-0.005048</td>\n",
              "    </tr>\n",
              "    <tr>\n",
              "      <th>ת</th>\n",
              "      <td>-0.001088</td>\n",
              "      <td>0.003119</td>\n",
              "      <td>0.017454</td>\n",
              "      <td>0.012131</td>\n",
              "      <td>0.002291</td>\n",
              "      <td>-0.020308</td>\n",
              "      <td>0.003148</td>\n",
              "      <td>0.888040</td>\n",
              "      <td>-0.790697</td>\n",
              "      <td>-0.004041</td>\n",
              "    </tr>\n",
              "    <tr>\n",
              "      <th>מרצ</th>\n",
              "      <td>0.006333</td>\n",
              "      <td>-0.005881</td>\n",
              "      <td>-0.008651</td>\n",
              "      <td>0.031639</td>\n",
              "      <td>0.025729</td>\n",
              "      <td>-0.001706</td>\n",
              "      <td>0.322161</td>\n",
              "      <td>0.004972</td>\n",
              "      <td>0.007181</td>\n",
              "      <td>-0.004311</td>\n",
              "    </tr>\n",
              "    <tr>\n",
              "      <th>עם</th>\n",
              "      <td>-0.003062</td>\n",
              "      <td>0.003484</td>\n",
              "      <td>0.006272</td>\n",
              "      <td>-0.020742</td>\n",
              "      <td>-0.025378</td>\n",
              "      <td>0.000410</td>\n",
              "      <td>0.266747</td>\n",
              "      <td>-0.003205</td>\n",
              "      <td>0.000152</td>\n",
              "      <td>0.002134</td>\n",
              "    </tr>\n",
              "    <tr>\n",
              "      <th>בזב21</th>\n",
              "      <td>0.085010</td>\n",
              "      <td>-0.018166</td>\n",
              "      <td>0.095467</td>\n",
              "      <td>0.233163</td>\n",
              "      <td>0.066903</td>\n",
              "      <td>-0.010906</td>\n",
              "      <td>0.345931</td>\n",
              "      <td>0.021113</td>\n",
              "      <td>0.500389</td>\n",
              "      <td>0.971082</td>\n",
              "    </tr>\n",
              "  </tbody>\n",
              "</table>\n",
              "</div>\n",
              "      <button class=\"colab-df-convert\" onclick=\"convertToInteractive('df-3125e950-4b15-450b-aeb0-9d5eb0776fcc')\"\n",
              "              title=\"Convert this dataframe to an interactive table.\"\n",
              "              style=\"display:none;\">\n",
              "        \n",
              "  <svg xmlns=\"http://www.w3.org/2000/svg\" height=\"24px\"viewBox=\"0 0 24 24\"\n",
              "       width=\"24px\">\n",
              "    <path d=\"M0 0h24v24H0V0z\" fill=\"none\"/>\n",
              "    <path d=\"M18.56 5.44l.94 2.06.94-2.06 2.06-.94-2.06-.94-.94-2.06-.94 2.06-2.06.94zm-11 1L8.5 8.5l.94-2.06 2.06-.94-2.06-.94L8.5 2.5l-.94 2.06-2.06.94zm10 10l.94 2.06.94-2.06 2.06-.94-2.06-.94-.94-2.06-.94 2.06-2.06.94z\"/><path d=\"M17.41 7.96l-1.37-1.37c-.4-.4-.92-.59-1.43-.59-.52 0-1.04.2-1.43.59L10.3 9.45l-7.72 7.72c-.78.78-.78 2.05 0 2.83L4 21.41c.39.39.9.59 1.41.59.51 0 1.02-.2 1.41-.59l7.78-7.78 2.81-2.81c.8-.78.8-2.07 0-2.86zM5.41 20L4 18.59l7.72-7.72 1.47 1.35L5.41 20z\"/>\n",
              "  </svg>\n",
              "      </button>\n",
              "      \n",
              "  <style>\n",
              "    .colab-df-container {\n",
              "      display:flex;\n",
              "      flex-wrap:wrap;\n",
              "      gap: 12px;\n",
              "    }\n",
              "\n",
              "    .colab-df-convert {\n",
              "      background-color: #E8F0FE;\n",
              "      border: none;\n",
              "      border-radius: 50%;\n",
              "      cursor: pointer;\n",
              "      display: none;\n",
              "      fill: #1967D2;\n",
              "      height: 32px;\n",
              "      padding: 0 0 0 0;\n",
              "      width: 32px;\n",
              "    }\n",
              "\n",
              "    .colab-df-convert:hover {\n",
              "      background-color: #E2EBFA;\n",
              "      box-shadow: 0px 1px 2px rgba(60, 64, 67, 0.3), 0px 1px 3px 1px rgba(60, 64, 67, 0.15);\n",
              "      fill: #174EA6;\n",
              "    }\n",
              "\n",
              "    [theme=dark] .colab-df-convert {\n",
              "      background-color: #3B4455;\n",
              "      fill: #D2E3FC;\n",
              "    }\n",
              "\n",
              "    [theme=dark] .colab-df-convert:hover {\n",
              "      background-color: #434B5C;\n",
              "      box-shadow: 0px 1px 3px 1px rgba(0, 0, 0, 0.15);\n",
              "      filter: drop-shadow(0px 1px 2px rgba(0, 0, 0, 0.3));\n",
              "      fill: #FFFFFF;\n",
              "    }\n",
              "  </style>\n",
              "\n",
              "      <script>\n",
              "        const buttonEl =\n",
              "          document.querySelector('#df-3125e950-4b15-450b-aeb0-9d5eb0776fcc button.colab-df-convert');\n",
              "        buttonEl.style.display =\n",
              "          google.colab.kernel.accessAllowed ? 'block' : 'none';\n",
              "\n",
              "        async function convertToInteractive(key) {\n",
              "          const element = document.querySelector('#df-3125e950-4b15-450b-aeb0-9d5eb0776fcc');\n",
              "          const dataTable =\n",
              "            await google.colab.kernel.invokeFunction('convertToInteractive',\n",
              "                                                     [key], {});\n",
              "          if (!dataTable) return;\n",
              "\n",
              "          const docLinkHtml = 'Like what you see? Visit the ' +\n",
              "            '<a target=\"_blank\" href=https://colab.research.google.com/notebooks/data_table.ipynb>data table notebook</a>'\n",
              "            + ' to learn more about interactive tables.';\n",
              "          element.innerHTML = '';\n",
              "          dataTable['output_type'] = 'display_data';\n",
              "          await google.colab.output.renderOutput(dataTable, element);\n",
              "          const docLink = document.createElement('div');\n",
              "          docLink.innerHTML = docLinkHtml;\n",
              "          element.appendChild(docLink);\n",
              "        }\n",
              "      </script>\n",
              "    </div>\n",
              "  </div>\n",
              "  "
            ],
            "text/plain": [
              "            מחל        פה        שס  ...         ג        נץ     בזב20\n",
              "מחל    0.763817 -0.003913  0.005568  ... -0.030664 -0.227375  0.011755\n",
              "פה    -0.003995  0.499160 -0.013586  ...  0.009271 -0.003020 -0.006716\n",
              "שס     0.019889  0.246527  0.002084  ...  0.001096 -0.075646 -0.005417\n",
              "כן     0.005695 -0.004666  0.855977  ... -0.003875 -0.243707 -0.005563\n",
              "ג     -0.025105  0.088789  0.013048  ... -0.005297  0.134899  0.001557\n",
              "אמת    0.082163  0.051768 -0.016650  ...  0.008969 -1.077786 -0.012010\n",
              "ב     -0.005640  0.017281 -0.007627  ... -0.005706  0.027626  0.017821\n",
              "ל      0.003620 -0.027887  0.063685  ...  0.035973  3.468445 -0.003081\n",
              "ודעם  -0.032349  0.035696  0.011992  ... -0.003797  0.068855  0.003036\n",
              "ט      0.067680  0.092452 -0.023274  ...  0.007784 -0.217531 -0.005048\n",
              "ת     -0.001088  0.003119  0.017454  ...  0.888040 -0.790697 -0.004041\n",
              "מרצ    0.006333 -0.005881 -0.008651  ...  0.004972  0.007181 -0.004311\n",
              "עם    -0.003062  0.003484  0.006272  ... -0.003205  0.000152  0.002134\n",
              "בזב21  0.085010 -0.018166  0.095467  ...  0.021113  0.500389  0.971082\n",
              "\n",
              "[14 rows x 10 columns]"
            ]
          },
          "metadata": {},
          "execution_count": 11
        }
      ]
    },
    {
      "cell_type": "markdown",
      "source": [
        "Now we're going to normalize the matrix again according to section 2:"
      ],
      "metadata": {
        "id": "8UL7taGgpzGW"
      }
    },
    {
      "cell_type": "code",
      "source": [
        "M_matrix_q2[M_matrix_q2<(0.5/100)]=0\n",
        "M_matrix_q2 = M_matrix_q2.T.div(M_matrix_q2.sum(axis=1)).T\n",
        "M_matrix_q2\n",
        "M_matrix_q2.sum(axis=1) # Sum rows == 1\n",
        "print(\"Regular Least squares with bzb included: \")\n",
        "heatmap(M_matrix_q2)"
      ],
      "metadata": {
        "colab": {
          "base_uri": "https://localhost:8080/",
          "height": 321
        },
        "id": "tXl3daMhp56u",
        "outputId": "8752fee2-f0c2-492f-e6cd-091e7c2b20bb"
      },
      "execution_count": 12,
      "outputs": [
        {
          "output_type": "stream",
          "name": "stdout",
          "text": [
            "Regular Least squares with bzb included: \n"
          ]
        },
        {
          "output_type": "display_data",
          "data": {
            "image/png": "[encoded data removed]",
            "text/plain": [
              "<Figure size 432x288 with 2 Axes>"
            ]
          },
          "metadata": {
            "needs_background": "light"
          }
        }
      ]
    },
    {
      "cell_type": "code",
      "source": [
        "print(\"Plot 1b again in order to compare between the two plots:\")\n",
        "heatmap(normalized_matrix)"
      ],
      "metadata": {
        "colab": {
          "base_uri": "https://localhost:8080/",
          "height": 314
        },
        "id": "IPu-F4sJqrA8",
        "outputId": "30419491-b462-42b1-e031-518d2f7ec235"
      },
      "execution_count": 13,
      "outputs": [
        {
          "output_type": "stream",
          "name": "stdout",
          "text": [
            "Plot 1b again in order to compare between the two plots:\n"
          ]
        },
        {
          "output_type": "display_data",
          "data": {
            "image/png": "[encoded data removed]",
            "text/plain": [
              "<Figure size 432x288 with 2 Axes>"
            ]
          },
          "metadata": {
            "needs_background": "light"
          }
        }
      ]
    },
    {
      "cell_type": "markdown",
      "source": [
        "we can see that after we added the row and the column of (bzb_i - total votes_i) for each year, that the volume of the exchanges between most of the parties is pretty much the same. "
      ],
      "metadata": {
        "id": "eVkEwbVPrGkV"
      }
    },
    {
      "cell_type": "markdown",
      "source": [
        "# Question 3"
      ],
      "metadata": {
        "id": "tvmaqUDGja09"
      }
    },
    {
      "cell_type": "markdown",
      "source": [
        "We need to compute the residuals' matrix from previous question:"
      ],
      "metadata": {
        "id": "8SjQ_EapjfBm"
      }
    },
    {
      "cell_type": "code",
      "source": [
        "##\n",
        "def chart_plot(vector,title,labels):\n",
        "#define chart \n",
        "  std_error = np.std(vector, ddof=1) / np.sqrt(len(vector))\n",
        "  fig, ax = plt.subplots(figsize=(15,10))\n",
        "  rev_names = [name[::-1] for name in list(labels)]\n",
        "  #create chart\n",
        "  ax.bar(x=np.arange(len(vector)), #x-coordinates of bars\n",
        "        height=vector, #height of bars\n",
        "        yerr=std_error, #error bar width\n",
        "        capsize=2) #length of error bar caps\n",
        "  ax.set_ylabel(title)\n",
        "  ax.set_xlabel('Parties Names')\n",
        "  ax.set_title('Estimators for ' +title)\n",
        "  ax.set_xticks(np.arange(len(labels)))\n",
        "  ax.set_xticklabels(rev_names, rotation=90)\n",
        "  plt.show()\n",
        "  return fig, ax\n",
        "\n",
        "chart_plot((model.resid**2).mean(),\"MSR\",M_matrix_q2.index)"
      ],
      "metadata": {
        "colab": {
          "base_uri": "https://localhost:8080/",
          "height": 683
        },
        "id": "WVQSgwAJlp_Q",
        "outputId": "2a35f242-87b4-4aff-a234-a8e7ac3993e7"
      },
      "execution_count": 14,
      "outputs": [
        {
          "output_type": "display_data",
          "data": {
            "image/png": "[encoded data removed]",
            "text/plain": [
              "<Figure size 1080x720 with 1 Axes>"
            ]
          },
          "metadata": {
            "needs_background": "light"
          }
        },
        {
          "output_type": "execute_result",
          "data": {
            "text/plain": [
              "(<Figure size 1080x720 with 1 Axes>,\n",
              " <matplotlib.axes._subplots.AxesSubplot at 0x7fc2e610a210>)"
            ]
          },
          "metadata": {},
          "execution_count": 14
        }
      ]
    },
    {
      "cell_type": "markdown",
      "source": [
        "according to the plot above, we can see that the model doesn't predict well when it comes to the bigger parties.In addition, we can see that the model can't predict those who didn't come to vote at all between the to elections, which is the biggest vote loss ."
      ],
      "metadata": {
        "id": "zeZjzIEU38uz"
      }
    },
    {
      "cell_type": "code",
      "source": [
        "x = (model.resid.mean(axis=1))**2\n",
        "\n",
        "x.plot.hist(grid=True, bins=40, rwidth=100,\n",
        "                   color='#607c8e')\n",
        "plt.title('Ballots vs MSR ')\n",
        "plt.xlabel('MSR')\n",
        "plt.ylabel('Ballots')\n",
        "plt.grid(axis='y', alpha=1)\n",
        "\n",
        "\n"
      ],
      "metadata": {
        "colab": {
          "base_uri": "https://localhost:8080/",
          "height": 301
        },
        "id": "Ylz4kFDS6kcR",
        "outputId": "c8aa40ca-61ed-40b3-abf9-c8d74d935f4a"
      },
      "execution_count": 15,
      "outputs": [
        {
          "output_type": "display_data",
          "data": {
            "image/png": "[encoded data removed]",
            "text/plain": [
              "<Figure size 432x288 with 1 Axes>"
            ]
          },
          "metadata": {
            "needs_background": "light"
          }
        }
      ]
    },
    {
      "cell_type": "code",
      "source": [
        "#Finding top 10 MSR ballots:\n",
        "top10 = ((model.resid.mean(axis=1))**2)\n",
        "top10 = pd.DataFrame(top10)\n",
        "result = pd.concat([top10, ballots_merged['קלפי']], axis=1, ignore_index=False)\n",
        "result = result.sort_values(by = 0,ascending=False)[0:10]\n",
        "\n",
        "print(result)\n",
        "\n"
      ],
      "metadata": {
        "colab": {
          "base_uri": "https://localhost:8080/"
        },
        "id": "9dAQiw9F401B",
        "outputId": "21742ec6-0111-4add-c711-dba887bf7cc1"
      },
      "execution_count": 16,
      "outputs": [
        {
          "output_type": "stream",
          "name": "stdout",
          "text": [
            "                      0  קלפי\n",
            "שם ישוב                      \n",
            "ירוחם       1058.017734   3.0\n",
            "נחושה       1053.160716   1.0\n",
            "באר טוביה   1049.819807   1.0\n",
            "טירת יהודה  1031.348689   1.0\n",
            "טל שחר      1001.445531   1.0\n",
            "נס הרים      931.095790   1.0\n",
            "מגדים        897.354359   1.0\n",
            "נוף הגליל    839.563471  52.0\n",
            "עזריה        831.595441   1.0\n",
            "ירחיב        807.013027   1.0\n"
          ]
        }
      ]
    },
    {
      "cell_type": "markdown",
      "source": [
        "# Question 4 (Bonus Question):"
      ],
      "metadata": {
        "id": "qiza2cIrVc5K"
      }
    },
    {
      "cell_type": "markdown",
      "source": [
        "This time we're going to use Sankey plot to show the voters exchange between elections."
      ],
      "metadata": {
        "id": "ZE38tQlXV2_B"
      }
    },
    {
      "cell_type": "code",
      "source": [
        "import plotly.graph_objects as go\n",
        "source = []\n",
        "target = []\n",
        "Sankey_M1 = M_matrix.copy()\n",
        "#Create source:\n",
        "for i in range(len(Sankey_M1.columns)):\n",
        "  for j in range(len(Sankey_M1.index)):\n",
        "    source.append(i)\n",
        "#Create Target:\n",
        "for i in range(len(Sankey_M1.columns)):\n",
        "  for j in range(len(Sankey_M1.index)):\n",
        "      target.append(j+9)\n"
      ],
      "metadata": {
        "id": "G8vN1YJhVfOw"
      },
      "execution_count": 17,
      "outputs": []
    },
    {
      "cell_type": "code",
      "source": [
        "def sankey(df):\n",
        "  flat_list = [item for sublist in df.values.tolist() for item in sublist]\n",
        "  fig = go.Figure(data=[go.Sankey(\n",
        "      node = dict(\n",
        "        pad = 60,\n",
        "        thickness = 20,\n",
        "        line = dict(color = \"black\", width = 1),\n",
        "        label = ['מחל_20', 'פה_20', 'שס_20', 'ל_20', 'אמת_20', 'טב_20', 'ודעם_20',\n",
        "        'ג_20', 'נץ_20','מחל_21', 'פה_21', 'שס_21', 'כן_21', 'ג_21', 'אמת_21', 'ב_21',\n",
        "        'ל_21', 'ודעם_21', 'ט_21', 'ת_21', 'מרצ_21', 'עם_21'],\n",
        "        color = \"blue\"\n",
        "      ),\n",
        "      link = dict(\n",
        "        source = source, \n",
        "        target = target,\n",
        "        value = flat_list\n",
        "    ))])\n",
        "  fig.update_layout(title_text=\"Votes Exchange\", font_size=20)\n",
        "  fig.show()\n"
      ],
      "metadata": {
        "id": "kJMPsN3nkJI9"
      },
      "execution_count": 18,
      "outputs": []
    },
    {
      "cell_type": "markdown",
      "source": [
        "For Question 1:"
      ],
      "metadata": {
        "id": "vNAyw6L2svq2"
      }
    },
    {
      "cell_type": "code",
      "source": [
        "\n",
        "#Flat DF:\n",
        "Sankey_M1 = M_matrix.copy()\n",
        "Sankey_M1.columns = [str(col) + '_20' for col in Sankey_M1.columns]\n",
        "Sankey_M1.index = [str(col) + '_21' for col in Sankey_M1.index]\n",
        "sankey(M_matrix)\n"
      ],
      "metadata": {
        "colab": {
          "base_uri": "https://localhost:8080/",
          "height": 542
        },
        "id": "55BDZbMUsxps",
        "outputId": "8027822a-e9a3-4408-e8be-65eafbe741a9"
      },
      "execution_count": 19,
      "outputs": [
        {
          "output_type": "display_data",
          "data": {
            "text/html": [
              "<html>\n",
              "<head><meta charset=\"utf-8\" /></head>\n",
              "<body>\n",
              "    <div>\n",
              "            <script src=\"https://cdnjs.cloudflare.com/ajax/libs/mathjax/2.7.5/MathJax.js?config=TeX-AMS-MML_SVG\"></script><script type=\"text/javascript\">if (window.MathJax) {MathJax.Hub.Config({SVG: {font: \"STIX-Web\"}});}</script>\n",
              "                <script type=\"text/javascript\">window.PlotlyConfig = {MathJaxConfig: 'local'};</script>\n",
              "        <script src=\"https://cdn.plot.ly/plotly-latest.min.js\"></script>    \n",
              "            <div id=\"628f5d29-e382-46d2-aa49-cba44a10018e\" class=\"plotly-graph-div\" style=\"height:525px; width:100%;\"></div>\n",
              "            <script type=\"text/javascript\">\n",
              "                \n",
              "                    window.PLOTLYENV=window.PLOTLYENV || {};\n",
              "                    \n",
              "                if (document.getElementById(\"628f5d29-e382-46d2-aa49-cba44a10018e\")) {\n",
              "                    Plotly.newPlot(\n",
              "                        '628f5d29-e382-46d2-aa49-cba44a10018e',\n",
              "                        [{\"link\": {\"source\": [0, 0, 0, 0, 0, 0, 0, 0, 0, 0, 0, 0, 0, 1, 1, 1, 1, 1, 1, 1, 1, 1, 1, 1, 1, 1, 2, 2, 2, 2, 2, 2, 2, 2, 2, 2, 2, 2, 2, 3, 3, 3, 3, 3, 3, 3, 3, 3, 3, 3, 3, 3, 4, 4, 4, 4, 4, 4, 4, 4, 4, 4, 4, 4, 4, 5, 5, 5, 5, 5, 5, 5, 5, 5, 5, 5, 5, 5, 6, 6, 6, 6, 6, 6, 6, 6, 6, 6, 6, 6, 6, 7, 7, 7, 7, 7, 7, 7, 7, 7, 7, 7, 7, 7, 8, 8, 8, 8, 8, 8, 8, 8, 8, 8, 8, 8, 8], \"target\": [9, 10, 11, 12, 13, 14, 15, 16, 17, 18, 19, 20, 21, 9, 10, 11, 12, 13, 14, 15, 16, 17, 18, 19, 20, 21, 9, 10, 11, 12, 13, 14, 15, 16, 17, 18, 19, 20, 21, 9, 10, 11, 12, 13, 14, 15, 16, 17, 18, 19, 20, 21, 9, 10, 11, 12, 13, 14, 15, 16, 17, 18, 19, 20, 21, 9, 10, 11, 12, 13, 14, 15, 16, 17, 18, 19, 20, 21, 9, 10, 11, 12, 13, 14, 15, 16, 17, 18, 19, 20, 21, 9, 10, 11, 12, 13, 14, 15, 16, 17, 18, 19, 20, 21, 9, 10, 11, 12, 13, 14, 15, 16, 17, 18, 19, 20, 21], \"value\": [0.7707667723750176, -0.0027477037289726346, 0.008602988001161029, -0.030986441467428776, -0.002434019439509154, -0.11385008979772633, 0.029398125687166102, -0.02581330447933896, -0.21762430398103744, -0.007965348484668427, 0.4984947229453716, -0.015319930554904132, 0.1294353547229215, -0.1962891687354901, -0.004896550152553614, -0.00231919856903952, 0.0064997625825310955, -0.008590503915975703, 0.01668582544026745, 0.2459906399171169, 0.0006853998118505978, -0.06998849693104378, -0.0481306860555047, 0.000894618614160533, -0.004226239794761466, -0.0011398752242400526, -0.08013947729501786, 0.0024058717882289356, -0.00521712079923408, 0.8545401105585797, -0.0027762426295527207, 0.01638995033179686, -0.0037292921136902997, 0.0012808170240954278, -0.0061703244194122485, -0.24832095685783567, -0.024184407282949037, 0.08894312390420797, 0.013450227649591077, -0.014970976659501848, 0.667648630733976, 0.005062579357099279, -0.005235711302701373, -0.004654143706468496, 0.13619040450520664, 0.07506275488358624, 0.05057828843758645, -0.019750985469134938, -0.02275687909339752, -0.03877055208429631, 0.5019034832664735, -0.0019339528591596751, 0.004013014000256252, -1.0877479218858888, 0.004896610183949601, 0.019046858901288714, -0.0030252570170704596, 0.724724188301623, 0.005437496353613599, -0.007506612198603983, -6.559492622435815e-05, 0.0016484805811467266, 0.042408105104227614, 0.0017986704291872225, -0.028192279291551364, 0.06288905431641426, -0.008539262935345475, 0.01455520388386768, 0.6180450661279527, -0.0002883053127612392, 0.03470133815351401, 3.465889904413332, -0.030554009067280456, 0.035997031022306114, 0.012776026641444248, -0.006867528802326052, 0.6647030481021649, -0.00326083048048912, 0.01578506718591998, -0.0025436320495750755, 0.0713732533496084, 0.06469506801995258, 0.09195225386530341, -0.02457753574260078, 0.05174603821775998, -0.08035156144987272, 0.03097576136754164, 0.0015893205107613065, 0.005700293745512479, -0.22171877737411494, -0.0034770382834083714, 0.002718976451268591, 0.016410228522069262, 0.004381477729176849, -0.0024424709617599915, -0.020595360698719478, 0.0005243890946259312, 0.8863719979722068, -0.7940485635482127, 0.003783825788884421, -0.006308031021963921, -0.009764487288557134, 0.023370586790277665, 0.020678892571161227, -0.0020124470734678287, 0.31936169032613565, 0.00319257239730659, 0.0036051574846386047, -0.0018006429010403396, 0.003695467628660961, 0.006822656907436041, -0.01664917609611282, -0.022878172406505543, 0.0005611899837776199, 0.2681322903569919, -0.0023242376316047913, 0.0019223435263149196]}, \"node\": {\"color\": \"blue\", \"label\": [\"\\u05de\\u05d7\\u05dc_20\", \"\\u05e4\\u05d4_20\", \"\\u05e9\\u05e1_20\", \"\\u05dc_20\", \"\\u05d0\\u05de\\u05ea_20\", \"\\u05d8\\u05d1_20\", \"\\u05d5\\u05d3\\u05e2\\u05dd_20\", \"\\u05d2_20\", \"\\u05e0\\u05e5_20\", \"\\u05de\\u05d7\\u05dc_21\", \"\\u05e4\\u05d4_21\", \"\\u05e9\\u05e1_21\", \"\\u05db\\u05df_21\", \"\\u05d2_21\", \"\\u05d0\\u05de\\u05ea_21\", \"\\u05d1_21\", \"\\u05dc_21\", \"\\u05d5\\u05d3\\u05e2\\u05dd_21\", \"\\u05d8_21\", \"\\u05ea_21\", \"\\u05de\\u05e8\\u05e6_21\", \"\\u05e2\\u05dd_21\"], \"line\": {\"color\": \"black\", \"width\": 1}, \"pad\": 60, \"thickness\": 20}, \"type\": \"sankey\"}],\n",
              "                        {\"font\": {\"size\": 20}, \"template\": {\"data\": {\"bar\": [{\"error_x\": {\"color\": \"#2a3f5f\"}, \"error_y\": {\"color\": \"#2a3f5f\"}, \"marker\": {\"line\": {\"color\": \"#E5ECF6\", \"width\": 0.5}}, \"type\": \"bar\"}], \"barpolar\": [{\"marker\": {\"line\": {\"color\": \"#E5ECF6\", \"width\": 0.5}}, \"type\": \"barpolar\"}], \"carpet\": [{\"aaxis\": {\"endlinecolor\": \"#2a3f5f\", \"gridcolor\": \"white\", \"linecolor\": \"white\", \"minorgridcolor\": \"white\", \"startlinecolor\": \"#2a3f5f\"}, \"baxis\": {\"endlinecolor\": \"#2a3f5f\", \"gridcolor\": \"white\", \"linecolor\": \"white\", \"minorgridcolor\": \"white\", \"startlinecolor\": \"#2a3f5f\"}, \"type\": \"carpet\"}], \"choropleth\": [{\"colorbar\": {\"outlinewidth\": 0, \"ticks\": \"\"}, \"type\": \"choropleth\"}], \"contour\": [{\"colorbar\": {\"outlinewidth\": 0, \"ticks\": \"\"}, \"colorscale\": [[0.0, \"#0d0887\"], [0.1111111111111111, \"#46039f\"], [0.2222222222222222, \"#7201a8\"], [0.3333333333333333, \"#9c179e\"], [0.4444444444444444, \"#bd3786\"], [0.5555555555555556, \"#d8576b\"], [0.6666666666666666, \"#ed7953\"], [0.7777777777777778, \"#fb9f3a\"], [0.8888888888888888, \"#fdca26\"], [1.0, \"#f0f921\"]], \"type\": \"contour\"}], \"contourcarpet\": [{\"colorbar\": {\"outlinewidth\": 0, \"ticks\": \"\"}, \"type\": \"contourcarpet\"}], \"heatmap\": [{\"colorbar\": {\"outlinewidth\": 0, \"ticks\": \"\"}, \"colorscale\": [[0.0, \"#0d0887\"], [0.1111111111111111, \"#46039f\"], [0.2222222222222222, \"#7201a8\"], [0.3333333333333333, \"#9c179e\"], [0.4444444444444444, \"#bd3786\"], [0.5555555555555556, \"#d8576b\"], [0.6666666666666666, \"#ed7953\"], [0.7777777777777778, \"#fb9f3a\"], [0.8888888888888888, \"#fdca26\"], [1.0, \"#f0f921\"]], \"type\": \"heatmap\"}], \"heatmapgl\": [{\"colorbar\": {\"outlinewidth\": 0, \"ticks\": \"\"}, \"colorscale\": [[0.0, \"#0d0887\"], [0.1111111111111111, \"#46039f\"], [0.2222222222222222, \"#7201a8\"], [0.3333333333333333, \"#9c179e\"], [0.4444444444444444, \"#bd3786\"], [0.5555555555555556, \"#d8576b\"], [0.6666666666666666, \"#ed7953\"], [0.7777777777777778, \"#fb9f3a\"], [0.8888888888888888, \"#fdca26\"], [1.0, \"#f0f921\"]], \"type\": \"heatmapgl\"}], \"histogram\": [{\"marker\": {\"colorbar\": {\"outlinewidth\": 0, \"ticks\": \"\"}}, \"type\": \"histogram\"}], \"histogram2d\": [{\"colorbar\": {\"outlinewidth\": 0, \"ticks\": \"\"}, \"colorscale\": [[0.0, \"#0d0887\"], [0.1111111111111111, \"#46039f\"], [0.2222222222222222, \"#7201a8\"], [0.3333333333333333, \"#9c179e\"], [0.4444444444444444, \"#bd3786\"], [0.5555555555555556, \"#d8576b\"], [0.6666666666666666, \"#ed7953\"], [0.7777777777777778, \"#fb9f3a\"], [0.8888888888888888, \"#fdca26\"], [1.0, \"#f0f921\"]], \"type\": \"histogram2d\"}], \"histogram2dcontour\": [{\"colorbar\": {\"outlinewidth\": 0, \"ticks\": \"\"}, \"colorscale\": [[0.0, \"#0d0887\"], [0.1111111111111111, \"#46039f\"], [0.2222222222222222, \"#7201a8\"], [0.3333333333333333, \"#9c179e\"], [0.4444444444444444, \"#bd3786\"], [0.5555555555555556, \"#d8576b\"], [0.6666666666666666, \"#ed7953\"], [0.7777777777777778, \"#fb9f3a\"], [0.8888888888888888, \"#fdca26\"], [1.0, \"#f0f921\"]], \"type\": \"histogram2dcontour\"}], \"mesh3d\": [{\"colorbar\": {\"outlinewidth\": 0, \"ticks\": \"\"}, \"type\": \"mesh3d\"}], \"parcoords\": [{\"line\": {\"colorbar\": {\"outlinewidth\": 0, \"ticks\": \"\"}}, \"type\": \"parcoords\"}], \"pie\": [{\"automargin\": true, \"type\": \"pie\"}], \"scatter\": [{\"marker\": {\"colorbar\": {\"outlinewidth\": 0, \"ticks\": \"\"}}, \"type\": \"scatter\"}], \"scatter3d\": [{\"line\": {\"colorbar\": {\"outlinewidth\": 0, \"ticks\": \"\"}}, \"marker\": {\"colorbar\": {\"outlinewidth\": 0, \"ticks\": \"\"}}, \"type\": \"scatter3d\"}], \"scattercarpet\": [{\"marker\": {\"colorbar\": {\"outlinewidth\": 0, \"ticks\": \"\"}}, \"type\": \"scattercarpet\"}], \"scattergeo\": [{\"marker\": {\"colorbar\": {\"outlinewidth\": 0, \"ticks\": \"\"}}, \"type\": \"scattergeo\"}], \"scattergl\": [{\"marker\": {\"colorbar\": {\"outlinewidth\": 0, \"ticks\": \"\"}}, \"type\": \"scattergl\"}], \"scattermapbox\": [{\"marker\": {\"colorbar\": {\"outlinewidth\": 0, \"ticks\": \"\"}}, \"type\": \"scattermapbox\"}], \"scatterpolar\": [{\"marker\": {\"colorbar\": {\"outlinewidth\": 0, \"ticks\": \"\"}}, \"type\": \"scatterpolar\"}], \"scatterpolargl\": [{\"marker\": {\"colorbar\": {\"outlinewidth\": 0, \"ticks\": \"\"}}, \"type\": \"scatterpolargl\"}], \"scatterternary\": [{\"marker\": {\"colorbar\": {\"outlinewidth\": 0, \"ticks\": \"\"}}, \"type\": \"scatterternary\"}], \"surface\": [{\"colorbar\": {\"outlinewidth\": 0, \"ticks\": \"\"}, \"colorscale\": [[0.0, \"#0d0887\"], [0.1111111111111111, \"#46039f\"], [0.2222222222222222, \"#7201a8\"], [0.3333333333333333, \"#9c179e\"], [0.4444444444444444, \"#bd3786\"], [0.5555555555555556, \"#d8576b\"], [0.6666666666666666, \"#ed7953\"], [0.7777777777777778, \"#fb9f3a\"], [0.8888888888888888, \"#fdca26\"], [1.0, \"#f0f921\"]], \"type\": \"surface\"}], \"table\": [{\"cells\": {\"fill\": {\"color\": \"#EBF0F8\"}, \"line\": {\"color\": \"white\"}}, \"header\": {\"fill\": {\"color\": \"#C8D4E3\"}, \"line\": {\"color\": \"white\"}}, \"type\": \"table\"}]}, \"layout\": {\"annotationdefaults\": {\"arrowcolor\": \"#2a3f5f\", \"arrowhead\": 0, \"arrowwidth\": 1}, \"coloraxis\": {\"colorbar\": {\"outlinewidth\": 0, \"ticks\": \"\"}}, \"colorscale\": {\"diverging\": [[0, \"#8e0152\"], [0.1, \"#c51b7d\"], [0.2, \"#de77ae\"], [0.3, \"#f1b6da\"], [0.4, \"#fde0ef\"], [0.5, \"#f7f7f7\"], [0.6, \"#e6f5d0\"], [0.7, \"#b8e186\"], [0.8, \"#7fbc41\"], [0.9, \"#4d9221\"], [1, \"#276419\"]], \"sequential\": [[0.0, \"#0d0887\"], [0.1111111111111111, \"#46039f\"], [0.2222222222222222, \"#7201a8\"], [0.3333333333333333, \"#9c179e\"], [0.4444444444444444, \"#bd3786\"], [0.5555555555555556, \"#d8576b\"], [0.6666666666666666, \"#ed7953\"], [0.7777777777777778, \"#fb9f3a\"], [0.8888888888888888, \"#fdca26\"], [1.0, \"#f0f921\"]], \"sequentialminus\": [[0.0, \"#0d0887\"], [0.1111111111111111, \"#46039f\"], [0.2222222222222222, \"#7201a8\"], [0.3333333333333333, \"#9c179e\"], [0.4444444444444444, \"#bd3786\"], [0.5555555555555556, \"#d8576b\"], [0.6666666666666666, \"#ed7953\"], [0.7777777777777778, \"#fb9f3a\"], [0.8888888888888888, \"#fdca26\"], [1.0, \"#f0f921\"]]}, \"colorway\": [\"#636efa\", \"#EF553B\", \"#00cc96\", \"#ab63fa\", \"#FFA15A\", \"#19d3f3\", \"#FF6692\", \"#B6E880\", \"#FF97FF\", \"#FECB52\"], \"font\": {\"color\": \"#2a3f5f\"}, \"geo\": {\"bgcolor\": \"white\", \"lakecolor\": \"white\", \"landcolor\": \"#E5ECF6\", \"showlakes\": true, \"showland\": true, \"subunitcolor\": \"white\"}, \"hoverlabel\": {\"align\": \"left\"}, \"hovermode\": \"closest\", \"mapbox\": {\"style\": \"light\"}, \"paper_bgcolor\": \"white\", \"plot_bgcolor\": \"#E5ECF6\", \"polar\": {\"angularaxis\": {\"gridcolor\": \"white\", \"linecolor\": \"white\", \"ticks\": \"\"}, \"bgcolor\": \"#E5ECF6\", \"radialaxis\": {\"gridcolor\": \"white\", \"linecolor\": \"white\", \"ticks\": \"\"}}, \"scene\": {\"xaxis\": {\"backgroundcolor\": \"#E5ECF6\", \"gridcolor\": \"white\", \"gridwidth\": 2, \"linecolor\": \"white\", \"showbackground\": true, \"ticks\": \"\", \"zerolinecolor\": \"white\"}, \"yaxis\": {\"backgroundcolor\": \"#E5ECF6\", \"gridcolor\": \"white\", \"gridwidth\": 2, \"linecolor\": \"white\", \"showbackground\": true, \"ticks\": \"\", \"zerolinecolor\": \"white\"}, \"zaxis\": {\"backgroundcolor\": \"#E5ECF6\", \"gridcolor\": \"white\", \"gridwidth\": 2, \"linecolor\": \"white\", \"showbackground\": true, \"ticks\": \"\", \"zerolinecolor\": \"white\"}}, \"shapedefaults\": {\"line\": {\"color\": \"#2a3f5f\"}}, \"ternary\": {\"aaxis\": {\"gridcolor\": \"white\", \"linecolor\": \"white\", \"ticks\": \"\"}, \"baxis\": {\"gridcolor\": \"white\", \"linecolor\": \"white\", \"ticks\": \"\"}, \"bgcolor\": \"#E5ECF6\", \"caxis\": {\"gridcolor\": \"white\", \"linecolor\": \"white\", \"ticks\": \"\"}}, \"title\": {\"x\": 0.05}, \"xaxis\": {\"automargin\": true, \"gridcolor\": \"white\", \"linecolor\": \"white\", \"ticks\": \"\", \"title\": {\"standoff\": 15}, \"zerolinecolor\": \"white\", \"zerolinewidth\": 2}, \"yaxis\": {\"automargin\": true, \"gridcolor\": \"white\", \"linecolor\": \"white\", \"ticks\": \"\", \"title\": {\"standoff\": 15}, \"zerolinecolor\": \"white\", \"zerolinewidth\": 2}}}, \"title\": {\"text\": \"Votes Exchange\"}},\n",
              "                        {\"responsive\": true}\n",
              "                    ).then(function(){\n",
              "                            \n",
              "var gd = document.getElementById('628f5d29-e382-46d2-aa49-cba44a10018e');\n",
              "var x = new MutationObserver(function (mutations, observer) {{\n",
              "        var display = window.getComputedStyle(gd).display;\n",
              "        if (!display || display === 'none') {{\n",
              "            console.log([gd, 'removed!']);\n",
              "            Plotly.purge(gd);\n",
              "            observer.disconnect();\n",
              "        }}\n",
              "}});\n",
              "\n",
              "// Listen for the removal of the full notebook cells\n",
              "var notebookContainer = gd.closest('#notebook-container');\n",
              "if (notebookContainer) {{\n",
              "    x.observe(notebookContainer, {childList: true});\n",
              "}}\n",
              "\n",
              "// Listen for the clearing of the current output cell\n",
              "var outputEl = gd.closest('.output');\n",
              "if (outputEl) {{\n",
              "    x.observe(outputEl, {childList: true});\n",
              "}}\n",
              "\n",
              "                        })\n",
              "                };\n",
              "                \n",
              "            </script>\n",
              "        </div>\n",
              "</body>\n",
              "</html>"
            ]
          },
          "metadata": {}
        }
      ]
    },
    {
      "cell_type": "code",
      "source": [
        "#Flat DF:\n",
        "Sankey_M1 = normalized_matrix.copy()\n",
        "Sankey_M1.columns = [str(col) + '_20' for col in Sankey_M1.columns]\n",
        "Sankey_M1.index = [str(col) + '_21' for col in Sankey_M1.index]\n",
        "flat_list = [item for sublist in normalized_matrix.values.tolist() for item in sublist]\n",
        "sankey(normalized_matrix)\n"
      ],
      "metadata": {
        "colab": {
          "base_uri": "https://localhost:8080/",
          "height": 542
        },
        "id": "Su0NHrVLuKNV",
        "outputId": "d5375ebb-c666-40d1-bac1-228caf5131d6"
      },
      "execution_count": 20,
      "outputs": [
        {
          "output_type": "display_data",
          "data": {
            "text/html": [
              "<html>\n",
              "<head><meta charset=\"utf-8\" /></head>\n",
              "<body>\n",
              "    <div>\n",
              "            <script src=\"https://cdnjs.cloudflare.com/ajax/libs/mathjax/2.7.5/MathJax.js?config=TeX-AMS-MML_SVG\"></script><script type=\"text/javascript\">if (window.MathJax) {MathJax.Hub.Config({SVG: {font: \"STIX-Web\"}});}</script>\n",
              "                <script type=\"text/javascript\">window.PlotlyConfig = {MathJaxConfig: 'local'};</script>\n",
              "        <script src=\"https://cdn.plot.ly/plotly-latest.min.js\"></script>    \n",
              "            <div id=\"cecab87a-4baf-40a0-b850-36aac4d395a2\" class=\"plotly-graph-div\" style=\"height:525px; width:100%;\"></div>\n",
              "            <script type=\"text/javascript\">\n",
              "                \n",
              "                    window.PLOTLYENV=window.PLOTLYENV || {};\n",
              "                    \n",
              "                if (document.getElementById(\"cecab87a-4baf-40a0-b850-36aac4d395a2\")) {\n",
              "                    Plotly.newPlot(\n",
              "                        'cecab87a-4baf-40a0-b850-36aac4d395a2',\n",
              "                        [{\"link\": {\"source\": [0, 0, 0, 0, 0, 0, 0, 0, 0, 0, 0, 0, 0, 1, 1, 1, 1, 1, 1, 1, 1, 1, 1, 1, 1, 1, 2, 2, 2, 2, 2, 2, 2, 2, 2, 2, 2, 2, 2, 3, 3, 3, 3, 3, 3, 3, 3, 3, 3, 3, 3, 3, 4, 4, 4, 4, 4, 4, 4, 4, 4, 4, 4, 4, 4, 5, 5, 5, 5, 5, 5, 5, 5, 5, 5, 5, 5, 5, 6, 6, 6, 6, 6, 6, 6, 6, 6, 6, 6, 6, 6, 7, 7, 7, 7, 7, 7, 7, 7, 7, 7, 7, 7, 7, 8, 8, 8, 8, 8, 8, 8, 8, 8, 8, 8, 8, 8], \"target\": [9, 10, 11, 12, 13, 14, 15, 16, 17, 18, 19, 20, 21, 9, 10, 11, 12, 13, 14, 15, 16, 17, 18, 19, 20, 21, 9, 10, 11, 12, 13, 14, 15, 16, 17, 18, 19, 20, 21, 9, 10, 11, 12, 13, 14, 15, 16, 17, 18, 19, 20, 21, 9, 10, 11, 12, 13, 14, 15, 16, 17, 18, 19, 20, 21, 9, 10, 11, 12, 13, 14, 15, 16, 17, 18, 19, 20, 21, 9, 10, 11, 12, 13, 14, 15, 16, 17, 18, 19, 20, 21, 9, 10, 11, 12, 13, 14, 15, 16, 17, 18, 19, 20, 21, 9, 10, 11, 12, 13, 14, 15, 16, 17, 18, 19, 20, 21], \"value\": [0.953013572443762, 0.0, 0.010637153316059363, 0.0, 0.0, 0.0, 0.03634927424017868, 0.0, 0.0, 0.0, 0.7857365642642059, 0.0, 0.2040183902316902, 0.0, 0.0, 0.0, 0.010245045504103954, 0.0, 0.06352234646360708, 0.936477653536393, 0.0, 0.0, 0.0, 0.0, 0.0, 0.0, 0.0, 0.0, 0.0, 0.981181094708063, 0.0, 0.01881890529193693, 0.0, 0.0, 0.0, 0.0, 0.0, 0.09760080677276556, 0.014759466637255586, 0.0, 0.7326372420936001, 0.005555368508713483, 0.0, 0.0, 0.14944711598766527, 0.11961343251888369, 0.08059713103166141, 0.0, 0.0, 0.0, 0.7997894364494548, 0.0, 0.0, 0.0, 0.0, 0.024060710362158184, 0.0, 0.9154989217668706, 0.006868850425029194, 0.0, 0.0, 0.0, 0.053571517445941935, 0.0, 0.0, 0.014987570737458327, 0.0, 0.0034687617770499356, 0.14729103892904505, 0.0, 0.008269940865122977, 0.8259826876913238, 0.0, 0.044960633517341426, 0.015957378575966952, 0.0, 0.8302204180412049, 0.0, 0.019715698785074235, 0.0, 0.08914587108041234, 0.2639867074514906, 0.37520901489984776, 0.0, 0.21114849509938688, 0.0, 0.12639586763705818, 0.0, 0.02325991491221664, 0.0, 0.0, 0.0, 0.018177394326640863, 0.0, 0.0, 0.0, 0.0, 0.9818226056733591, 0.0, 0.0, 0.0, 0.0, 0.06430893912911212, 0.0569021931520127, 0.0, 0.8787888677188752, 0.0, 0.0, 0.0, 0.0, 0.0248137266680079, 0.0, 0.0, 0.0, 0.975186273331992, 0.0, 0.0]}, \"node\": {\"color\": \"blue\", \"label\": [\"\\u05de\\u05d7\\u05dc_20\", \"\\u05e4\\u05d4_20\", \"\\u05e9\\u05e1_20\", \"\\u05dc_20\", \"\\u05d0\\u05de\\u05ea_20\", \"\\u05d8\\u05d1_20\", \"\\u05d5\\u05d3\\u05e2\\u05dd_20\", \"\\u05d2_20\", \"\\u05e0\\u05e5_20\", \"\\u05de\\u05d7\\u05dc_21\", \"\\u05e4\\u05d4_21\", \"\\u05e9\\u05e1_21\", \"\\u05db\\u05df_21\", \"\\u05d2_21\", \"\\u05d0\\u05de\\u05ea_21\", \"\\u05d1_21\", \"\\u05dc_21\", \"\\u05d5\\u05d3\\u05e2\\u05dd_21\", \"\\u05d8_21\", \"\\u05ea_21\", \"\\u05de\\u05e8\\u05e6_21\", \"\\u05e2\\u05dd_21\"], \"line\": {\"color\": \"black\", \"width\": 1}, \"pad\": 60, \"thickness\": 20}, \"type\": \"sankey\"}],\n",
              "                        {\"font\": {\"size\": 20}, \"template\": {\"data\": {\"bar\": [{\"error_x\": {\"color\": \"#2a3f5f\"}, \"error_y\": {\"color\": \"#2a3f5f\"}, \"marker\": {\"line\": {\"color\": \"#E5ECF6\", \"width\": 0.5}}, \"type\": \"bar\"}], \"barpolar\": [{\"marker\": {\"line\": {\"color\": \"#E5ECF6\", \"width\": 0.5}}, \"type\": \"barpolar\"}], \"carpet\": [{\"aaxis\": {\"endlinecolor\": \"#2a3f5f\", \"gridcolor\": \"white\", \"linecolor\": \"white\", \"minorgridcolor\": \"white\", \"startlinecolor\": \"#2a3f5f\"}, \"baxis\": {\"endlinecolor\": \"#2a3f5f\", \"gridcolor\": \"white\", \"linecolor\": \"white\", \"minorgridcolor\": \"white\", \"startlinecolor\": \"#2a3f5f\"}, \"type\": \"carpet\"}], \"choropleth\": [{\"colorbar\": {\"outlinewidth\": 0, \"ticks\": \"\"}, \"type\": \"choropleth\"}], \"contour\": [{\"colorbar\": {\"outlinewidth\": 0, \"ticks\": \"\"}, \"colorscale\": [[0.0, \"#0d0887\"], [0.1111111111111111, \"#46039f\"], [0.2222222222222222, \"#7201a8\"], [0.3333333333333333, \"#9c179e\"], [0.4444444444444444, \"#bd3786\"], [0.5555555555555556, \"#d8576b\"], [0.6666666666666666, \"#ed7953\"], [0.7777777777777778, \"#fb9f3a\"], [0.8888888888888888, \"#fdca26\"], [1.0, \"#f0f921\"]], \"type\": \"contour\"}], \"contourcarpet\": [{\"colorbar\": {\"outlinewidth\": 0, \"ticks\": \"\"}, \"type\": \"contourcarpet\"}], \"heatmap\": [{\"colorbar\": {\"outlinewidth\": 0, \"ticks\": \"\"}, \"colorscale\": [[0.0, \"#0d0887\"], [0.1111111111111111, \"#46039f\"], [0.2222222222222222, \"#7201a8\"], [0.3333333333333333, \"#9c179e\"], [0.4444444444444444, \"#bd3786\"], [0.5555555555555556, \"#d8576b\"], [0.6666666666666666, \"#ed7953\"], [0.7777777777777778, \"#fb9f3a\"], [0.8888888888888888, \"#fdca26\"], [1.0, \"#f0f921\"]], \"type\": \"heatmap\"}], \"heatmapgl\": [{\"colorbar\": {\"outlinewidth\": 0, \"ticks\": \"\"}, \"colorscale\": [[0.0, \"#0d0887\"], [0.1111111111111111, \"#46039f\"], [0.2222222222222222, \"#7201a8\"], [0.3333333333333333, \"#9c179e\"], [0.4444444444444444, \"#bd3786\"], [0.5555555555555556, \"#d8576b\"], [0.6666666666666666, \"#ed7953\"], [0.7777777777777778, \"#fb9f3a\"], [0.8888888888888888, \"#fdca26\"], [1.0, \"#f0f921\"]], \"type\": \"heatmapgl\"}], \"histogram\": [{\"marker\": {\"colorbar\": {\"outlinewidth\": 0, \"ticks\": \"\"}}, \"type\": \"histogram\"}], \"histogram2d\": [{\"colorbar\": {\"outlinewidth\": 0, \"ticks\": \"\"}, \"colorscale\": [[0.0, \"#0d0887\"], [0.1111111111111111, \"#46039f\"], [0.2222222222222222, \"#7201a8\"], [0.3333333333333333, \"#9c179e\"], [0.4444444444444444, \"#bd3786\"], [0.5555555555555556, \"#d8576b\"], [0.6666666666666666, \"#ed7953\"], [0.7777777777777778, \"#fb9f3a\"], [0.8888888888888888, \"#fdca26\"], [1.0, \"#f0f921\"]], \"type\": \"histogram2d\"}], \"histogram2dcontour\": [{\"colorbar\": {\"outlinewidth\": 0, \"ticks\": \"\"}, \"colorscale\": [[0.0, \"#0d0887\"], [0.1111111111111111, \"#46039f\"], [0.2222222222222222, \"#7201a8\"], [0.3333333333333333, \"#9c179e\"], [0.4444444444444444, \"#bd3786\"], [0.5555555555555556, \"#d8576b\"], [0.6666666666666666, \"#ed7953\"], [0.7777777777777778, \"#fb9f3a\"], [0.8888888888888888, \"#fdca26\"], [1.0, \"#f0f921\"]], \"type\": \"histogram2dcontour\"}], \"mesh3d\": [{\"colorbar\": {\"outlinewidth\": 0, \"ticks\": \"\"}, \"type\": \"mesh3d\"}], \"parcoords\": [{\"line\": {\"colorbar\": {\"outlinewidth\": 0, \"ticks\": \"\"}}, \"type\": \"parcoords\"}], \"pie\": [{\"automargin\": true, \"type\": \"pie\"}], \"scatter\": [{\"marker\": {\"colorbar\": {\"outlinewidth\": 0, \"ticks\": \"\"}}, \"type\": \"scatter\"}], \"scatter3d\": [{\"line\": {\"colorbar\": {\"outlinewidth\": 0, \"ticks\": \"\"}}, \"marker\": {\"colorbar\": {\"outlinewidth\": 0, \"ticks\": \"\"}}, \"type\": \"scatter3d\"}], \"scattercarpet\": [{\"marker\": {\"colorbar\": {\"outlinewidth\": 0, \"ticks\": \"\"}}, \"type\": \"scattercarpet\"}], \"scattergeo\": [{\"marker\": {\"colorbar\": {\"outlinewidth\": 0, \"ticks\": \"\"}}, \"type\": \"scattergeo\"}], \"scattergl\": [{\"marker\": {\"colorbar\": {\"outlinewidth\": 0, \"ticks\": \"\"}}, \"type\": \"scattergl\"}], \"scattermapbox\": [{\"marker\": {\"colorbar\": {\"outlinewidth\": 0, \"ticks\": \"\"}}, \"type\": \"scattermapbox\"}], \"scatterpolar\": [{\"marker\": {\"colorbar\": {\"outlinewidth\": 0, \"ticks\": \"\"}}, \"type\": \"scatterpolar\"}], \"scatterpolargl\": [{\"marker\": {\"colorbar\": {\"outlinewidth\": 0, \"ticks\": \"\"}}, \"type\": \"scatterpolargl\"}], \"scatterternary\": [{\"marker\": {\"colorbar\": {\"outlinewidth\": 0, \"ticks\": \"\"}}, \"type\": \"scatterternary\"}], \"surface\": [{\"colorbar\": {\"outlinewidth\": 0, \"ticks\": \"\"}, \"colorscale\": [[0.0, \"#0d0887\"], [0.1111111111111111, \"#46039f\"], [0.2222222222222222, \"#7201a8\"], [0.3333333333333333, \"#9c179e\"], [0.4444444444444444, \"#bd3786\"], [0.5555555555555556, \"#d8576b\"], [0.6666666666666666, \"#ed7953\"], [0.7777777777777778, \"#fb9f3a\"], [0.8888888888888888, \"#fdca26\"], [1.0, \"#f0f921\"]], \"type\": \"surface\"}], \"table\": [{\"cells\": {\"fill\": {\"color\": \"#EBF0F8\"}, \"line\": {\"color\": \"white\"}}, \"header\": {\"fill\": {\"color\": \"#C8D4E3\"}, \"line\": {\"color\": \"white\"}}, \"type\": \"table\"}]}, \"layout\": {\"annotationdefaults\": {\"arrowcolor\": \"#2a3f5f\", \"arrowhead\": 0, \"arrowwidth\": 1}, \"coloraxis\": {\"colorbar\": {\"outlinewidth\": 0, \"ticks\": \"\"}}, \"colorscale\": {\"diverging\": [[0, \"#8e0152\"], [0.1, \"#c51b7d\"], [0.2, \"#de77ae\"], [0.3, \"#f1b6da\"], [0.4, \"#fde0ef\"], [0.5, \"#f7f7f7\"], [0.6, \"#e6f5d0\"], [0.7, \"#b8e186\"], [0.8, \"#7fbc41\"], [0.9, \"#4d9221\"], [1, \"#276419\"]], \"sequential\": [[0.0, \"#0d0887\"], [0.1111111111111111, \"#46039f\"], [0.2222222222222222, \"#7201a8\"], [0.3333333333333333, \"#9c179e\"], [0.4444444444444444, \"#bd3786\"], [0.5555555555555556, \"#d8576b\"], [0.6666666666666666, \"#ed7953\"], [0.7777777777777778, \"#fb9f3a\"], [0.8888888888888888, \"#fdca26\"], [1.0, \"#f0f921\"]], \"sequentialminus\": [[0.0, \"#0d0887\"], [0.1111111111111111, \"#46039f\"], [0.2222222222222222, \"#7201a8\"], [0.3333333333333333, \"#9c179e\"], [0.4444444444444444, \"#bd3786\"], [0.5555555555555556, \"#d8576b\"], [0.6666666666666666, \"#ed7953\"], [0.7777777777777778, \"#fb9f3a\"], [0.8888888888888888, \"#fdca26\"], [1.0, \"#f0f921\"]]}, \"colorway\": [\"#636efa\", \"#EF553B\", \"#00cc96\", \"#ab63fa\", \"#FFA15A\", \"#19d3f3\", \"#FF6692\", \"#B6E880\", \"#FF97FF\", \"#FECB52\"], \"font\": {\"color\": \"#2a3f5f\"}, \"geo\": {\"bgcolor\": \"white\", \"lakecolor\": \"white\", \"landcolor\": \"#E5ECF6\", \"showlakes\": true, \"showland\": true, \"subunitcolor\": \"white\"}, \"hoverlabel\": {\"align\": \"left\"}, \"hovermode\": \"closest\", \"mapbox\": {\"style\": \"light\"}, \"paper_bgcolor\": \"white\", \"plot_bgcolor\": \"#E5ECF6\", \"polar\": {\"angularaxis\": {\"gridcolor\": \"white\", \"linecolor\": \"white\", \"ticks\": \"\"}, \"bgcolor\": \"#E5ECF6\", \"radialaxis\": {\"gridcolor\": \"white\", \"linecolor\": \"white\", \"ticks\": \"\"}}, \"scene\": {\"xaxis\": {\"backgroundcolor\": \"#E5ECF6\", \"gridcolor\": \"white\", \"gridwidth\": 2, \"linecolor\": \"white\", \"showbackground\": true, \"ticks\": \"\", \"zerolinecolor\": \"white\"}, \"yaxis\": {\"backgroundcolor\": \"#E5ECF6\", \"gridcolor\": \"white\", \"gridwidth\": 2, \"linecolor\": \"white\", \"showbackground\": true, \"ticks\": \"\", \"zerolinecolor\": \"white\"}, \"zaxis\": {\"backgroundcolor\": \"#E5ECF6\", \"gridcolor\": \"white\", \"gridwidth\": 2, \"linecolor\": \"white\", \"showbackground\": true, \"ticks\": \"\", \"zerolinecolor\": \"white\"}}, \"shapedefaults\": {\"line\": {\"color\": \"#2a3f5f\"}}, \"ternary\": {\"aaxis\": {\"gridcolor\": \"white\", \"linecolor\": \"white\", \"ticks\": \"\"}, \"baxis\": {\"gridcolor\": \"white\", \"linecolor\": \"white\", \"ticks\": \"\"}, \"bgcolor\": \"#E5ECF6\", \"caxis\": {\"gridcolor\": \"white\", \"linecolor\": \"white\", \"ticks\": \"\"}}, \"title\": {\"x\": 0.05}, \"xaxis\": {\"automargin\": true, \"gridcolor\": \"white\", \"linecolor\": \"white\", \"ticks\": \"\", \"title\": {\"standoff\": 15}, \"zerolinecolor\": \"white\", \"zerolinewidth\": 2}, \"yaxis\": {\"automargin\": true, \"gridcolor\": \"white\", \"linecolor\": \"white\", \"ticks\": \"\", \"title\": {\"standoff\": 15}, \"zerolinecolor\": \"white\", \"zerolinewidth\": 2}}}, \"title\": {\"text\": \"Votes Exchange\"}},\n",
              "                        {\"responsive\": true}\n",
              "                    ).then(function(){\n",
              "                            \n",
              "var gd = document.getElementById('cecab87a-4baf-40a0-b850-36aac4d395a2');\n",
              "var x = new MutationObserver(function (mutations, observer) {{\n",
              "        var display = window.getComputedStyle(gd).display;\n",
              "        if (!display || display === 'none') {{\n",
              "            console.log([gd, 'removed!']);\n",
              "            Plotly.purge(gd);\n",
              "            observer.disconnect();\n",
              "        }}\n",
              "}});\n",
              "\n",
              "// Listen for the removal of the full notebook cells\n",
              "var notebookContainer = gd.closest('#notebook-container');\n",
              "if (notebookContainer) {{\n",
              "    x.observe(notebookContainer, {childList: true});\n",
              "}}\n",
              "\n",
              "// Listen for the clearing of the current output cell\n",
              "var outputEl = gd.closest('.output');\n",
              "if (outputEl) {{\n",
              "    x.observe(outputEl, {childList: true});\n",
              "}}\n",
              "\n",
              "                        })\n",
              "                };\n",
              "                \n",
              "            </script>\n",
              "        </div>\n",
              "</body>\n",
              "</html>"
            ]
          },
          "metadata": {}
        }
      ]
    },
    {
      "cell_type": "markdown",
      "source": [
        "for question 2:"
      ],
      "metadata": {
        "id": "8OorHAnzvCaF"
      }
    },
    {
      "cell_type": "code",
      "source": [
        "#Flat DF:\n",
        "Sankey_M1 = M_matrix_q2.copy()\n",
        "Sankey_M1.columns = [str(col) + '_20' for col in Sankey_M1.columns]\n",
        "Sankey_M1.index = [str(col) + '_21' for col in Sankey_M1.index]\n",
        "sankey(M_matrix_q2)"
      ],
      "metadata": {
        "id": "vytZ6Um4tNLl",
        "colab": {
          "base_uri": "https://localhost:8080/",
          "height": 542
        },
        "outputId": "672ca161-a789-4f82-9849-49288a54282d"
      },
      "execution_count": 21,
      "outputs": [
        {
          "output_type": "display_data",
          "data": {
            "text/html": [
              "<html>\n",
              "<head><meta charset=\"utf-8\" /></head>\n",
              "<body>\n",
              "    <div>\n",
              "            <script src=\"https://cdnjs.cloudflare.com/ajax/libs/mathjax/2.7.5/MathJax.js?config=TeX-AMS-MML_SVG\"></script><script type=\"text/javascript\">if (window.MathJax) {MathJax.Hub.Config({SVG: {font: \"STIX-Web\"}});}</script>\n",
              "                <script type=\"text/javascript\">window.PlotlyConfig = {MathJaxConfig: 'local'};</script>\n",
              "        <script src=\"https://cdn.plot.ly/plotly-latest.min.js\"></script>    \n",
              "            <div id=\"efa4fba5-6bd0-496d-b86d-37210f4a8c4a\" class=\"plotly-graph-div\" style=\"height:525px; width:100%;\"></div>\n",
              "            <script type=\"text/javascript\">\n",
              "                \n",
              "                    window.PLOTLYENV=window.PLOTLYENV || {};\n",
              "                    \n",
              "                if (document.getElementById(\"efa4fba5-6bd0-496d-b86d-37210f4a8c4a\")) {\n",
              "                    Plotly.newPlot(\n",
              "                        'efa4fba5-6bd0-496d-b86d-37210f4a8c4a',\n",
              "                        [{\"link\": {\"source\": [0, 0, 0, 0, 0, 0, 0, 0, 0, 0, 0, 0, 0, 1, 1, 1, 1, 1, 1, 1, 1, 1, 1, 1, 1, 1, 2, 2, 2, 2, 2, 2, 2, 2, 2, 2, 2, 2, 2, 3, 3, 3, 3, 3, 3, 3, 3, 3, 3, 3, 3, 3, 4, 4, 4, 4, 4, 4, 4, 4, 4, 4, 4, 4, 4, 5, 5, 5, 5, 5, 5, 5, 5, 5, 5, 5, 5, 5, 6, 6, 6, 6, 6, 6, 6, 6, 6, 6, 6, 6, 6, 7, 7, 7, 7, 7, 7, 7, 7, 7, 7, 7, 7, 7, 8, 8, 8, 8, 8, 8, 8, 8, 8, 8, 8, 8, 8], \"target\": [9, 10, 11, 12, 13, 14, 15, 16, 17, 18, 19, 20, 21, 9, 10, 11, 12, 13, 14, 15, 16, 17, 18, 19, 20, 21, 9, 10, 11, 12, 13, 14, 15, 16, 17, 18, 19, 20, 21, 9, 10, 11, 12, 13, 14, 15, 16, 17, 18, 19, 20, 21, 9, 10, 11, 12, 13, 14, 15, 16, 17, 18, 19, 20, 21, 9, 10, 11, 12, 13, 14, 15, 16, 17, 18, 19, 20, 21, 9, 10, 11, 12, 13, 14, 15, 16, 17, 18, 19, 20, 21, 9, 10, 11, 12, 13, 14, 15, 16, 17, 18, 19, 20, 21, 9, 10, 11, 12, 13, 14, 15, 16, 17, 18, 19, 20, 21], \"value\": [0.9513148951387084, 0.0, 0.0069344093864001175, 0.0, 0.0, 0.0, 0.027110477372044688, 0.0, 0.0, 0.014640218102846794, 0.0, 0.7670589572919396, 0.0, 0.2186938801780981, 0.0, 0.0, 0.0, 0.01424716252996228, 0.0, 0.0, 0.07465208552245477, 0.9253479144775453, 0.0, 0.0, 0.0, 0.0, 0.0, 0.0, 0.0, 0.0, 0.0063810161853014745, 0.0, 0.959110687193262, 0.00884230291265607, 0.025665993708780536, 0.0, 0.0, 0.0, 0.0, 0.0, 0.0, 0.09837430612538836, 0.014456947722773532, 0.0, 0.7377061257023343, 0.0, 0.0, 0.0, 0.14946262044950379, 0.0, 0.12611029078036154, 0.07945779474386538, 0.0, 0.0, 0.0, 0.7716672293613356, 0.008998053390163949, 0.013766631724273492, 0.0, 0.0, 0.0, 0.02294105009489515, 0.0, 0.9167270459659053, 0.0, 0.0, 0.0, 0.0, 0.03667452692148981, 0.023657377017709712, 0.0, 0.0, 0.015146641326796627, 0.0, 0.004320025574465372, 0.147047094653277, 0.0, 0.008555686569554764, 0.8249305518759062, 0.0, 0.0, 0.045099187680342954, 0.01515096441138664, 0.0, 0.8353044503587918, 0.0, 0.017452966943391556, 0.0, 0.0869924306060872, 0.0, 0.25963070414186135, 0.3546629198541844, 0.0, 0.2356433474175548, 0.0, 0.12020382790286734, 0.0, 0.02985920068353229, 0.0, 0.0, 0.0, 0.0, 0.019020494096311506, 0.013219605130589852, 0.0, 0.0, 0.0, 0.9677599007730987, 0.0, 0.0, 0.016112570203092577, 0.0, 0.0, 0.08049639598089525, 0.06546155546715236, 0.0, 0.8196581417176423, 0.0, 0.01827133663121751, 0.0, 0.0, 0.0, 0.022971207176514997, 0.0, 0.0, 0.0, 0.977028792823485, 0.0, 0.0, 0.0, 0.036657040568220396, 0.0, 0.04116632200428237, 0.10054225906617968, 0.02884941580851232, 0.0, 0.14916855975168433, 0.009104253929053813, 0.21577259842771182, 0.4187395504443552]}, \"node\": {\"color\": \"blue\", \"label\": [\"\\u05de\\u05d7\\u05dc_20\", \"\\u05e4\\u05d4_20\", \"\\u05e9\\u05e1_20\", \"\\u05dc_20\", \"\\u05d0\\u05de\\u05ea_20\", \"\\u05d8\\u05d1_20\", \"\\u05d5\\u05d3\\u05e2\\u05dd_20\", \"\\u05d2_20\", \"\\u05e0\\u05e5_20\", \"\\u05de\\u05d7\\u05dc_21\", \"\\u05e4\\u05d4_21\", \"\\u05e9\\u05e1_21\", \"\\u05db\\u05df_21\", \"\\u05d2_21\", \"\\u05d0\\u05de\\u05ea_21\", \"\\u05d1_21\", \"\\u05dc_21\", \"\\u05d5\\u05d3\\u05e2\\u05dd_21\", \"\\u05d8_21\", \"\\u05ea_21\", \"\\u05de\\u05e8\\u05e6_21\", \"\\u05e2\\u05dd_21\"], \"line\": {\"color\": \"black\", \"width\": 1}, \"pad\": 60, \"thickness\": 20}, \"type\": \"sankey\"}],\n",
              "                        {\"font\": {\"size\": 20}, \"template\": {\"data\": {\"bar\": [{\"error_x\": {\"color\": \"#2a3f5f\"}, \"error_y\": {\"color\": \"#2a3f5f\"}, \"marker\": {\"line\": {\"color\": \"#E5ECF6\", \"width\": 0.5}}, \"type\": \"bar\"}], \"barpolar\": [{\"marker\": {\"line\": {\"color\": \"#E5ECF6\", \"width\": 0.5}}, \"type\": \"barpolar\"}], \"carpet\": [{\"aaxis\": {\"endlinecolor\": \"#2a3f5f\", \"gridcolor\": \"white\", \"linecolor\": \"white\", \"minorgridcolor\": \"white\", \"startlinecolor\": \"#2a3f5f\"}, \"baxis\": {\"endlinecolor\": \"#2a3f5f\", \"gridcolor\": \"white\", \"linecolor\": \"white\", \"minorgridcolor\": \"white\", \"startlinecolor\": \"#2a3f5f\"}, \"type\": \"carpet\"}], \"choropleth\": [{\"colorbar\": {\"outlinewidth\": 0, \"ticks\": \"\"}, \"type\": \"choropleth\"}], \"contour\": [{\"colorbar\": {\"outlinewidth\": 0, \"ticks\": \"\"}, \"colorscale\": [[0.0, \"#0d0887\"], [0.1111111111111111, \"#46039f\"], [0.2222222222222222, \"#7201a8\"], [0.3333333333333333, \"#9c179e\"], [0.4444444444444444, \"#bd3786\"], [0.5555555555555556, \"#d8576b\"], [0.6666666666666666, \"#ed7953\"], [0.7777777777777778, \"#fb9f3a\"], [0.8888888888888888, \"#fdca26\"], [1.0, \"#f0f921\"]], \"type\": \"contour\"}], \"contourcarpet\": [{\"colorbar\": {\"outlinewidth\": 0, \"ticks\": \"\"}, \"type\": \"contourcarpet\"}], \"heatmap\": [{\"colorbar\": {\"outlinewidth\": 0, \"ticks\": \"\"}, \"colorscale\": [[0.0, \"#0d0887\"], [0.1111111111111111, \"#46039f\"], [0.2222222222222222, \"#7201a8\"], [0.3333333333333333, \"#9c179e\"], [0.4444444444444444, \"#bd3786\"], [0.5555555555555556, \"#d8576b\"], [0.6666666666666666, \"#ed7953\"], [0.7777777777777778, \"#fb9f3a\"], [0.8888888888888888, \"#fdca26\"], [1.0, \"#f0f921\"]], \"type\": \"heatmap\"}], \"heatmapgl\": [{\"colorbar\": {\"outlinewidth\": 0, \"ticks\": \"\"}, \"colorscale\": [[0.0, \"#0d0887\"], [0.1111111111111111, \"#46039f\"], [0.2222222222222222, \"#7201a8\"], [0.3333333333333333, \"#9c179e\"], [0.4444444444444444, \"#bd3786\"], [0.5555555555555556, \"#d8576b\"], [0.6666666666666666, \"#ed7953\"], [0.7777777777777778, \"#fb9f3a\"], [0.8888888888888888, \"#fdca26\"], [1.0, \"#f0f921\"]], \"type\": \"heatmapgl\"}], \"histogram\": [{\"marker\": {\"colorbar\": {\"outlinewidth\": 0, \"ticks\": \"\"}}, \"type\": \"histogram\"}], \"histogram2d\": [{\"colorbar\": {\"outlinewidth\": 0, \"ticks\": \"\"}, \"colorscale\": [[0.0, \"#0d0887\"], [0.1111111111111111, \"#46039f\"], [0.2222222222222222, \"#7201a8\"], [0.3333333333333333, \"#9c179e\"], [0.4444444444444444, \"#bd3786\"], [0.5555555555555556, \"#d8576b\"], [0.6666666666666666, \"#ed7953\"], [0.7777777777777778, \"#fb9f3a\"], [0.8888888888888888, \"#fdca26\"], [1.0, \"#f0f921\"]], \"type\": \"histogram2d\"}], \"histogram2dcontour\": [{\"colorbar\": {\"outlinewidth\": 0, \"ticks\": \"\"}, \"colorscale\": [[0.0, \"#0d0887\"], [0.1111111111111111, \"#46039f\"], [0.2222222222222222, \"#7201a8\"], [0.3333333333333333, \"#9c179e\"], [0.4444444444444444, \"#bd3786\"], [0.5555555555555556, \"#d8576b\"], [0.6666666666666666, \"#ed7953\"], [0.7777777777777778, \"#fb9f3a\"], [0.8888888888888888, \"#fdca26\"], [1.0, \"#f0f921\"]], \"type\": \"histogram2dcontour\"}], \"mesh3d\": [{\"colorbar\": {\"outlinewidth\": 0, \"ticks\": \"\"}, \"type\": \"mesh3d\"}], \"parcoords\": [{\"line\": {\"colorbar\": {\"outlinewidth\": 0, \"ticks\": \"\"}}, \"type\": \"parcoords\"}], \"pie\": [{\"automargin\": true, \"type\": \"pie\"}], \"scatter\": [{\"marker\": {\"colorbar\": {\"outlinewidth\": 0, \"ticks\": \"\"}}, \"type\": \"scatter\"}], \"scatter3d\": [{\"line\": {\"colorbar\": {\"outlinewidth\": 0, \"ticks\": \"\"}}, \"marker\": {\"colorbar\": {\"outlinewidth\": 0, \"ticks\": \"\"}}, \"type\": \"scatter3d\"}], \"scattercarpet\": [{\"marker\": {\"colorbar\": {\"outlinewidth\": 0, \"ticks\": \"\"}}, \"type\": \"scattercarpet\"}], \"scattergeo\": [{\"marker\": {\"colorbar\": {\"outlinewidth\": 0, \"ticks\": \"\"}}, \"type\": \"scattergeo\"}], \"scattergl\": [{\"marker\": {\"colorbar\": {\"outlinewidth\": 0, \"ticks\": \"\"}}, \"type\": \"scattergl\"}], \"scattermapbox\": [{\"marker\": {\"colorbar\": {\"outlinewidth\": 0, \"ticks\": \"\"}}, \"type\": \"scattermapbox\"}], \"scatterpolar\": [{\"marker\": {\"colorbar\": {\"outlinewidth\": 0, \"ticks\": \"\"}}, \"type\": \"scatterpolar\"}], \"scatterpolargl\": [{\"marker\": {\"colorbar\": {\"outlinewidth\": 0, \"ticks\": \"\"}}, \"type\": \"scatterpolargl\"}], \"scatterternary\": [{\"marker\": {\"colorbar\": {\"outlinewidth\": 0, \"ticks\": \"\"}}, \"type\": \"scatterternary\"}], \"surface\": [{\"colorbar\": {\"outlinewidth\": 0, \"ticks\": \"\"}, \"colorscale\": [[0.0, \"#0d0887\"], [0.1111111111111111, \"#46039f\"], [0.2222222222222222, \"#7201a8\"], [0.3333333333333333, \"#9c179e\"], [0.4444444444444444, \"#bd3786\"], [0.5555555555555556, \"#d8576b\"], [0.6666666666666666, \"#ed7953\"], [0.7777777777777778, \"#fb9f3a\"], [0.8888888888888888, \"#fdca26\"], [1.0, \"#f0f921\"]], \"type\": \"surface\"}], \"table\": [{\"cells\": {\"fill\": {\"color\": \"#EBF0F8\"}, \"line\": {\"color\": \"white\"}}, \"header\": {\"fill\": {\"color\": \"#C8D4E3\"}, \"line\": {\"color\": \"white\"}}, \"type\": \"table\"}]}, \"layout\": {\"annotationdefaults\": {\"arrowcolor\": \"#2a3f5f\", \"arrowhead\": 0, \"arrowwidth\": 1}, \"coloraxis\": {\"colorbar\": {\"outlinewidth\": 0, \"ticks\": \"\"}}, \"colorscale\": {\"diverging\": [[0, \"#8e0152\"], [0.1, \"#c51b7d\"], [0.2, \"#de77ae\"], [0.3, \"#f1b6da\"], [0.4, \"#fde0ef\"], [0.5, \"#f7f7f7\"], [0.6, \"#e6f5d0\"], [0.7, \"#b8e186\"], [0.8, \"#7fbc41\"], [0.9, \"#4d9221\"], [1, \"#276419\"]], \"sequential\": [[0.0, \"#0d0887\"], [0.1111111111111111, \"#46039f\"], [0.2222222222222222, \"#7201a8\"], [0.3333333333333333, \"#9c179e\"], [0.4444444444444444, \"#bd3786\"], [0.5555555555555556, \"#d8576b\"], [0.6666666666666666, \"#ed7953\"], [0.7777777777777778, \"#fb9f3a\"], [0.8888888888888888, \"#fdca26\"], [1.0, \"#f0f921\"]], \"sequentialminus\": [[0.0, \"#0d0887\"], [0.1111111111111111, \"#46039f\"], [0.2222222222222222, \"#7201a8\"], [0.3333333333333333, \"#9c179e\"], [0.4444444444444444, \"#bd3786\"], [0.5555555555555556, \"#d8576b\"], [0.6666666666666666, \"#ed7953\"], [0.7777777777777778, \"#fb9f3a\"], [0.8888888888888888, \"#fdca26\"], [1.0, \"#f0f921\"]]}, \"colorway\": [\"#636efa\", \"#EF553B\", \"#00cc96\", \"#ab63fa\", \"#FFA15A\", \"#19d3f3\", \"#FF6692\", \"#B6E880\", \"#FF97FF\", \"#FECB52\"], \"font\": {\"color\": \"#2a3f5f\"}, \"geo\": {\"bgcolor\": \"white\", \"lakecolor\": \"white\", \"landcolor\": \"#E5ECF6\", \"showlakes\": true, \"showland\": true, \"subunitcolor\": \"white\"}, \"hoverlabel\": {\"align\": \"left\"}, \"hovermode\": \"closest\", \"mapbox\": {\"style\": \"light\"}, \"paper_bgcolor\": \"white\", \"plot_bgcolor\": \"#E5ECF6\", \"polar\": {\"angularaxis\": {\"gridcolor\": \"white\", \"linecolor\": \"white\", \"ticks\": \"\"}, \"bgcolor\": \"#E5ECF6\", \"radialaxis\": {\"gridcolor\": \"white\", \"linecolor\": \"white\", \"ticks\": \"\"}}, \"scene\": {\"xaxis\": {\"backgroundcolor\": \"#E5ECF6\", \"gridcolor\": \"white\", \"gridwidth\": 2, \"linecolor\": \"white\", \"showbackground\": true, \"ticks\": \"\", \"zerolinecolor\": \"white\"}, \"yaxis\": {\"backgroundcolor\": \"#E5ECF6\", \"gridcolor\": \"white\", \"gridwidth\": 2, \"linecolor\": \"white\", \"showbackground\": true, \"ticks\": \"\", \"zerolinecolor\": \"white\"}, \"zaxis\": {\"backgroundcolor\": \"#E5ECF6\", \"gridcolor\": \"white\", \"gridwidth\": 2, \"linecolor\": \"white\", \"showbackground\": true, \"ticks\": \"\", \"zerolinecolor\": \"white\"}}, \"shapedefaults\": {\"line\": {\"color\": \"#2a3f5f\"}}, \"ternary\": {\"aaxis\": {\"gridcolor\": \"white\", \"linecolor\": \"white\", \"ticks\": \"\"}, \"baxis\": {\"gridcolor\": \"white\", \"linecolor\": \"white\", \"ticks\": \"\"}, \"bgcolor\": \"#E5ECF6\", \"caxis\": {\"gridcolor\": \"white\", \"linecolor\": \"white\", \"ticks\": \"\"}}, \"title\": {\"x\": 0.05}, \"xaxis\": {\"automargin\": true, \"gridcolor\": \"white\", \"linecolor\": \"white\", \"ticks\": \"\", \"title\": {\"standoff\": 15}, \"zerolinecolor\": \"white\", \"zerolinewidth\": 2}, \"yaxis\": {\"automargin\": true, \"gridcolor\": \"white\", \"linecolor\": \"white\", \"ticks\": \"\", \"title\": {\"standoff\": 15}, \"zerolinecolor\": \"white\", \"zerolinewidth\": 2}}}, \"title\": {\"text\": \"Votes Exchange\"}},\n",
              "                        {\"responsive\": true}\n",
              "                    ).then(function(){\n",
              "                            \n",
              "var gd = document.getElementById('efa4fba5-6bd0-496d-b86d-37210f4a8c4a');\n",
              "var x = new MutationObserver(function (mutations, observer) {{\n",
              "        var display = window.getComputedStyle(gd).display;\n",
              "        if (!display || display === 'none') {{\n",
              "            console.log([gd, 'removed!']);\n",
              "            Plotly.purge(gd);\n",
              "            observer.disconnect();\n",
              "        }}\n",
              "}});\n",
              "\n",
              "// Listen for the removal of the full notebook cells\n",
              "var notebookContainer = gd.closest('#notebook-container');\n",
              "if (notebookContainer) {{\n",
              "    x.observe(notebookContainer, {childList: true});\n",
              "}}\n",
              "\n",
              "// Listen for the clearing of the current output cell\n",
              "var outputEl = gd.closest('.output');\n",
              "if (outputEl) {{\n",
              "    x.observe(outputEl, {childList: true});\n",
              "}}\n",
              "\n",
              "                        })\n",
              "                };\n",
              "                \n",
              "            </script>\n",
              "        </div>\n",
              "</body>\n",
              "</html>"
            ]
          },
          "metadata": {}
        }
      ]
    }
  ]
}